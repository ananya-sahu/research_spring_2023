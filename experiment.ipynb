{
 "cells": [
  {
   "cell_type": "code",
   "execution_count": 1,
   "metadata": {},
   "outputs": [],
   "source": [
    "import pickle "
   ]
  },
  {
   "cell_type": "code",
   "execution_count": 2,
   "metadata": {},
   "outputs": [],
   "source": [
    "# with open('/mnt/swordfish-pool2/ccu/as5957-cache.pkl', 'rb') as handle:\n",
    "#     annotations = pickle.load(handle)\n",
    "\n",
    "with open('/home/as5957/research_spring_2023/video_annotations.pkl', 'rb') as handle:\n",
    "    annotations = pickle.load(handle)"
   ]
  },
  {
   "cell_type": "code",
   "execution_count": 30,
   "metadata": {},
   "outputs": [],
   "source": [
    "def get_change_points(annotations,file_id):\n",
    "  change_points_dict = annotations[file_id]\n",
    "  change_points = change_points_dict['changepoints']\n",
    "  return change_points\n",
    "\n",
    "def process_video_frame(annotations, file_id, time):\n",
    "  utterances = annotations[file_id]['utterances'] #list of dictionaries with vars for an utterance \n",
    "  for utter in utterances:\n",
    "    if time <=utter['end'] and time >= utter['start']:\n",
    "      return utter['video_frames']\n",
    "      \n"
   ]
  },
  {
   "cell_type": "code",
   "execution_count": 31,
   "metadata": {},
   "outputs": [],
   "source": []
  },
  {
   "cell_type": "code",
   "execution_count": 32,
   "metadata": {},
   "outputs": [
    {
     "data": {
      "text/plain": [
       "[]"
      ]
     },
     "execution_count": 32,
     "metadata": {},
     "output_type": "execute_result"
    }
   ],
   "source": []
  }
 ],
 "metadata": {
  "interpreter": {
   "hash": "337f1b05253dba1988dca16735a741c00646464218ec299561daac60e579a329"
  },
  "kernelspec": {
   "display_name": "Python 3.11.2 ('ananya')",
   "language": "python",
   "name": "python3"
  },
  "language_info": {
   "codemirror_mode": {
    "name": "ipython",
    "version": 3
   },
   "file_extension": ".py",
   "mimetype": "text/x-python",
   "name": "python",
   "nbconvert_exporter": "python",
   "pygments_lexer": "ipython3",
   "version": "3.11.2"
  },
  "orig_nbformat": 4
 },
 "nbformat": 4,
 "nbformat_minor": 2
}
