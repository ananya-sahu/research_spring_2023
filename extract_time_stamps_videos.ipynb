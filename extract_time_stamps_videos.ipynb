{
  "nbformat": 4,
  "nbformat_minor": 0,
  "metadata": {
    "colab": {
      "provenance": []
    },
    "kernelspec": {
      "name": "python3",
      "display_name": "Python 3"
    },
    "language_info": {
      "name": "python"
    },
    "gpuClass": "standard"
  },
  "cells": [
    {
      "cell_type": "code",
      "execution_count": null,
      "metadata": {
        "id": "b0gSvvvRwA88"
      },
      "outputs": [],
      "source": [
        "import pandas as pd \n",
        "import pickle \n"
      ]
    },
    {
      "cell_type": "code",
      "source": [
        "change_points = pd.read_csv('/content/changepoints.csv')"
      ],
      "metadata": {
        "id": "YZo7ucAowHqm"
      },
      "execution_count": null,
      "outputs": []
    },
    {
      "cell_type": "code",
      "source": [
        "change_points"
      ],
      "metadata": {
        "id": "Zeye3O3QdofO"
      },
      "execution_count": null,
      "outputs": []
    },
    {
      "cell_type": "code",
      "source": [
        "with open('/content/drive/MyDrive/ccu_videos/dyad.pkl', 'rb') as f:\n",
        "    x = pickle.load(f)\n",
        "with open('/content/drive/MyDrive/ccu_videos/dyad1.pkl', 'rb') as f:\n",
        "    y = pickle.load(f)\n",
        "\n",
        "with open('/content/drive/MyDrive/ccu_videos/dyad2.pkl', 'rb') as f:\n",
        "    z = pickle.load(f)\n",
        "\n",
        "with open('/content/drive/MyDrive/ccu_videos/dyad3.pkl', 'rb') as f:\n",
        "    a = pickle.load(f)\n",
        "\n",
        "with open('/content/drive/MyDrive/ccu_videos/dyad4.pkl', 'rb') as f:\n",
        "    b = pickle.load(f)\n",
        "\n",
        "with open('/content/drive/MyDrive/ccu_videos/dyad5.pkl', 'rb') as f:\n",
        "    c = pickle.load(f)"
      ],
      "metadata": {
        "id": "4QRJNjdSZgr2"
      },
      "execution_count": null,
      "outputs": []
    },
    {
      "cell_type": "code",
      "source": [
        "total = list(set(x)) + list(set(y)) + list(set(z)) + list(set(a)) + list(set(b)) + list(set(c)) "
      ],
      "metadata": {
        "id": "Qi2KXXUodYMN"
      },
      "execution_count": null,
      "outputs": []
    },
    {
      "cell_type": "code",
      "source": [
        "change_points = change_points[change_points['file_id'].isin(total)] "
      ],
      "metadata": {
        "id": "lvs-cJ0xddYV"
      },
      "execution_count": null,
      "outputs": []
    },
    {
      "cell_type": "code",
      "source": [
        "change_points.to_csv('/content/drive/MyDrive/ccu_videos/change_points_dyadic.csv')"
      ],
      "metadata": {
        "id": "GGaW27Pzdt49"
      },
      "execution_count": null,
      "outputs": []
    },
    {
      "cell_type": "code",
      "source": [
        "#filter videos to videos we want to process later\n",
        "import os\n",
        "import shutil\n",
        "origin = '/content/drive/MyDrive/ccu_videos/videos/video'\n",
        "target = '/content/drive/MyDrive/ccu_videos/filtered_videos'\n",
        "files = os.listdir(origin)\n",
        "\n",
        "# Fetching all the files to directory\n",
        "for file_name in files:\n",
        "   print(file_name)\n",
        "   name = file_name.replace('.mp4',\"\")\n",
        "   if name in total:\n",
        "     f = os.path.join(origin, file_name)\n",
        "     t = os.path.join(target, file_name)\n",
        "     shutil.copy(f, t)\n"
      ],
      "metadata": {
        "id": "ulkhZ0czwPzk"
      },
      "execution_count": null,
      "outputs": []
    },
    {
      "cell_type": "code",
      "source": [
        "change_points = pd.read_csv('/content/drive/MyDrive/ccu_videos/change_points_dyadic.csv')"
      ],
      "metadata": {
        "id": "diHhy_Yg6Bom"
      },
      "execution_count": null,
      "outputs": []
    },
    {
      "cell_type": "code",
      "source": [
        "from collections import defaultdict\n",
        "video_times_stamps = defaultdict(list)\n",
        "for ind in change_points.index:\n",
        "  video_times_stamps[change_points['file_id'][ind]].append(change_points['timestamp'][ind])\n",
        "\n",
        "\n"
      ],
      "metadata": {
        "id": "WxDVpye86wve"
      },
      "execution_count": null,
      "outputs": []
    },
    {
      "cell_type": "code",
      "source": [
        "with open('/content/drive/MyDrive/ccu_videos/change_points.pickle', 'wb') as handle:\n",
        "    pickle.dump(video_times_stamps, handle, protocol=pickle.HIGHEST_PROTOCOL)\n",
        "\n",
        "\n",
        "\n"
      ],
      "metadata": {
        "id": "wXV2oSn87ne6"
      },
      "execution_count": null,
      "outputs": []
    },
    {
      "cell_type": "code",
      "source": [
        "\n",
        "with open('/content/drive/MyDrive/ccu_videos/change_points.pickle', 'rb') as f:\n",
        "  time_stamps = pickle.load(f)"
      ],
      "metadata": {
        "id": "KbHlydd3Jo-s"
      },
      "execution_count": null,
      "outputs": []
    },
    {
      "cell_type": "code",
      "source": [
        "#lets clip the video segments by the timestamps (leaving 5 seconds before 5 seconds after)\n",
        "!pip install moviepy\n"
      ],
      "metadata": {
        "id": "FWTVbFeAJ7SI"
      },
      "execution_count": null,
      "outputs": []
    },
    {
      "cell_type": "code",
      "source": [
        "with open('/content/drive/MyDrive/ccu_videos/change_points.pickle', 'rb') as f:\n",
        "  time_stamps = pickle.load(f)"
      ],
      "metadata": {
        "id": "aEcpKPkdR1ab"
      },
      "execution_count": null,
      "outputs": []
    },
    {
      "cell_type": "code",
      "source": [
        "from moviepy.editor import *\n",
        "time = 200\n",
        "clip = VideoFileClip(\"/content/drive/MyDrive/ccu_videos/videos/video/M01003JHU.mp4\").subclip(time-10, time+10)\n",
        "clip.write_videofile(\"/content/M01003JHU.mp4\")"
      ],
      "metadata": {
        "id": "mmYXgx0uR71Q"
      },
      "execution_count": null,
      "outputs": []
    },
    {
      "cell_type": "code",
      "source": [
        "#create segmented videos\n",
        "for file_name in os.listdir('/content/drive/MyDrive/ccu_videos/filtered_videos'):\n",
        "  video = file_name.replace(\".mp4\", \"\")\n",
        "  times = time_stamps[video]\n",
        "  target = '/content/drive/MyDrive/ccu_videos/clipped_videos'\n",
        "  video_file = os.path.join('/content/drive/MyDrive/ccu_videos/filtered_videos', file_name)\n",
        "  for t in times:\n",
        "    video = video + \"_cp_\" + str(t) + \".mp4\"\n",
        "    write_file = os.path.join(target, video)\n",
        "    clip = VideoFileClip(video_file)\n",
        "    duration = clip.duration\n",
        "    print(t, duration)\n",
        "    if duration > t+5:\n",
        "      start = t-5\n",
        "      end = t+5\n",
        "      \n",
        "      clip = clip.subclip(start, end)\n",
        "      clip.write_videofile(write_file)\n",
        "  \n",
        "  #create a non changepoint clip \n",
        "  video = video + \"_ncp.mp4\"\n",
        "  write_file = os.path.join(target, video)\n",
        "  clip = VideoFileClip(video_file).subclip(0,20)\n",
        "  clip.write_videofile(write_file)\n",
        "\n",
        "\n",
        "\n",
        "\n",
        "  \n"
      ],
      "metadata": {
        "id": "52Bb2BFBUWQJ"
      },
      "execution_count": null,
      "outputs": []
    },
    {
      "cell_type": "code",
      "source": [
        "!pip install -q py-feat"
      ],
      "metadata": {
        "colab": {
          "base_uri": "https://localhost:8080/"
        },
        "id": "rrIMdfZbRff_",
        "outputId": "e487bcc1-3c57-4916-801f-ed76739e2171"
      },
      "execution_count": null,
      "outputs": [
        {
          "output_type": "stream",
          "name": "stdout",
          "text": [
            "\u001b[2K     \u001b[90m━━━━━━━━━━━━━━━━━━━━━━━━━━━━━━━━━━━━━━━━\u001b[0m \u001b[32m7.9/7.9 MB\u001b[0m \u001b[31m13.2 MB/s\u001b[0m eta \u001b[36m0:00:00\u001b[0m\n",
            "\u001b[2K     \u001b[90m━━━━━━━━━━━━━━━━━━━━━━━━━━━━━━━━━━━━━━━━\u001b[0m \u001b[32m3.3/3.3 MB\u001b[0m \u001b[31m30.1 MB/s\u001b[0m eta \u001b[36m0:00:00\u001b[0m\n",
            "\u001b[2K     \u001b[90m━━━━━━━━━━━━━━━━━━━━━━━━━━━━━━━━━━━━━━━━\u001b[0m \u001b[32m31.2/31.2 MB\u001b[0m \u001b[31m24.2 MB/s\u001b[0m eta \u001b[36m0:00:00\u001b[0m\n",
            "\u001b[2K     \u001b[90m━━━━━━━━━━━━━━━━━━━━━━━━━━━━━━━━━━━━━━\u001b[0m \u001b[32m612.0/612.0 KB\u001b[0m \u001b[31m38.6 MB/s\u001b[0m eta \u001b[36m0:00:00\u001b[0m\n",
            "\u001b[2K     \u001b[90m━━━━━━━━━━━━━━━━━━━━━━━━━━━━━━━━━━━━━━━━\u001b[0m \u001b[32m9.6/9.6 MB\u001b[0m \u001b[31m41.6 MB/s\u001b[0m eta \u001b[36m0:00:00\u001b[0m\n",
            "\u001b[2K     \u001b[90m━━━━━━━━━━━━━━━━━━━━━━━━━━━━━━━━━━━━━━━━\u001b[0m \u001b[32m3.3/3.3 MB\u001b[0m \u001b[31m104.8 MB/s\u001b[0m eta \u001b[36m0:00:00\u001b[0m\n",
            "\u001b[?25h"
          ]
        }
      ]
    },
    {
      "cell_type": "code",
      "source": [
        "from feat import Detector\n",
        "\n",
        "detector = Detector()\n",
        "\n",
        "detector"
      ],
      "metadata": {
        "id": "6raOJh8bRhrQ"
      },
      "execution_count": null,
      "outputs": []
    },
    {
      "cell_type": "code",
      "source": [
        "video_prediction = detector.detect_video('/content/drive/MyDrive/ccu_videos/clipped_videos/M01003JPT_cp_230.mp4', skip_frames=80)"
      ],
      "metadata": {
        "id": "hWhk9s6jRq1f"
      },
      "execution_count": null,
      "outputs": []
    },
    {
      "cell_type": "code",
      "source": [
        "df = detector.detect_video('/content/drive/MyDrive/ccu_videos/clipped_videos/M01003JP8_cp_312.mp4_ncp.mp4', skip_frames=80)\n"
      ],
      "metadata": {
        "id": "ZM2-9WhbRvfJ"
      },
      "execution_count": null,
      "outputs": []
    },
    {
      "cell_type": "code",
      "source": [
        "import pandas as pd \n",
        "\n",
        "visual_features = pd.read_csv(\"/content/drive/MyDrive/ccu_videos/visual_features - visual_features.csv\")"
      ],
      "metadata": {
        "id": "d0XfQM6mSd4O"
      },
      "execution_count": null,
      "outputs": []
    },
    {
      "cell_type": "code",
      "source": [
        "visual_features = visual_features.drop(columns=['Unnamed: 0'], axis = 1)"
      ],
      "metadata": {
        "id": "6VeLqPY6WaFk"
      },
      "execution_count": null,
      "outputs": []
    },
    {
      "cell_type": "code",
      "source": [
        "visual_features[visual_features['input']=='/content/drive/MyDrive/clipped_videos/M01003OS8_ncp.mp4']\n"
      ],
      "metadata": {
        "colab": {
          "base_uri": "https://localhost:8080/",
          "height": 393
        },
        "id": "e0zl6EaeWu4Z",
        "outputId": "52cbab5c-361a-4698-e589-4ccbdb8cf27e"
      },
      "execution_count": null,
      "outputs": [
        {
          "output_type": "execute_result",
          "data": {
            "text/plain": [
              "       FaceRectX  FaceRectY  FaceRectWidth  FaceRectHeight  FaceScore  \\\n",
              "1702         NaN        NaN            NaN             NaN        NaN   \n",
              "1703  171.891040  -2.430191     133.715125       97.497507   0.993162   \n",
              "1704         NaN        NaN            NaN             NaN        NaN   \n",
              "1705         NaN        NaN            NaN             NaN        NaN   \n",
              "1706  350.131724  94.808900      52.369419       66.675815   0.998732   \n",
              "1707  201.755315  92.469228      48.354442       65.743301   0.998139   \n",
              "1708         NaN        NaN            NaN             NaN        NaN   \n",
              "1709         NaN        NaN            NaN             NaN        NaN   \n",
              "\n",
              "             x_0         x_1         x_2         x_3         x_4  ...  \\\n",
              "1702         NaN         NaN         NaN         NaN         NaN  ...   \n",
              "1703  180.049103  178.954210  179.415097  182.681010  189.068486  ...   \n",
              "1704         NaN         NaN         NaN         NaN         NaN  ...   \n",
              "1705         NaN         NaN         NaN         NaN         NaN  ...   \n",
              "1706  349.653712  350.268380  351.720208  353.576764  356.181584  ...   \n",
              "1707  200.704801  200.579228  201.480677  203.604697  206.934392  ...   \n",
              "1708         NaN         NaN         NaN         NaN         NaN  ...   \n",
              "1709         NaN         NaN         NaN         NaN         NaN  ...   \n",
              "\n",
              "          AU43     anger   disgust      fear  happiness   sadness  surprise  \\\n",
              "1702       NaN       NaN       NaN       NaN        NaN       NaN       NaN   \n",
              "1703  0.245714  0.023812  0.001570  0.038950   0.018425  0.024437  0.855501   \n",
              "1704       NaN       NaN       NaN       NaN        NaN       NaN       NaN   \n",
              "1705       NaN       NaN       NaN       NaN        NaN       NaN       NaN   \n",
              "1706  0.739612  0.040720  0.000069  0.000195   0.000690  0.020443  0.262267   \n",
              "1707  0.738715  0.001534  0.000766  0.161664   0.001206  0.379285  0.031207   \n",
              "1708       NaN       NaN       NaN       NaN        NaN       NaN       NaN   \n",
              "1709       NaN       NaN       NaN       NaN        NaN       NaN       NaN   \n",
              "\n",
              "       neutral                                              input  frame  \n",
              "1702       NaN  /content/drive/MyDrive/clipped_videos/M01003OS...      0  \n",
              "1703  0.037305  /content/drive/MyDrive/clipped_videos/M01003OS...     80  \n",
              "1704       NaN  /content/drive/MyDrive/clipped_videos/M01003OS...    160  \n",
              "1705       NaN  /content/drive/MyDrive/clipped_videos/M01003OS...    240  \n",
              "1706  0.675616  /content/drive/MyDrive/clipped_videos/M01003OS...    320  \n",
              "1707  0.424338  /content/drive/MyDrive/clipped_videos/M01003OS...    320  \n",
              "1708       NaN  /content/drive/MyDrive/clipped_videos/M01003OS...    400  \n",
              "1709       NaN  /content/drive/MyDrive/clipped_videos/M01003OS...    480  \n",
              "\n",
              "[8 rows x 173 columns]"
            ],
            "text/html": [
              "\n",
              "  <div id=\"df-3641ed1e-b9e6-4667-98b0-de89b722febb\">\n",
              "    <div class=\"colab-df-container\">\n",
              "      <div>\n",
              "<style scoped>\n",
              "    .dataframe tbody tr th:only-of-type {\n",
              "        vertical-align: middle;\n",
              "    }\n",
              "\n",
              "    .dataframe tbody tr th {\n",
              "        vertical-align: top;\n",
              "    }\n",
              "\n",
              "    .dataframe thead th {\n",
              "        text-align: right;\n",
              "    }\n",
              "</style>\n",
              "<table border=\"1\" class=\"dataframe\">\n",
              "  <thead>\n",
              "    <tr style=\"text-align: right;\">\n",
              "      <th></th>\n",
              "      <th>FaceRectX</th>\n",
              "      <th>FaceRectY</th>\n",
              "      <th>FaceRectWidth</th>\n",
              "      <th>FaceRectHeight</th>\n",
              "      <th>FaceScore</th>\n",
              "      <th>x_0</th>\n",
              "      <th>x_1</th>\n",
              "      <th>x_2</th>\n",
              "      <th>x_3</th>\n",
              "      <th>x_4</th>\n",
              "      <th>...</th>\n",
              "      <th>AU43</th>\n",
              "      <th>anger</th>\n",
              "      <th>disgust</th>\n",
              "      <th>fear</th>\n",
              "      <th>happiness</th>\n",
              "      <th>sadness</th>\n",
              "      <th>surprise</th>\n",
              "      <th>neutral</th>\n",
              "      <th>input</th>\n",
              "      <th>frame</th>\n",
              "    </tr>\n",
              "  </thead>\n",
              "  <tbody>\n",
              "    <tr>\n",
              "      <th>1702</th>\n",
              "      <td>NaN</td>\n",
              "      <td>NaN</td>\n",
              "      <td>NaN</td>\n",
              "      <td>NaN</td>\n",
              "      <td>NaN</td>\n",
              "      <td>NaN</td>\n",
              "      <td>NaN</td>\n",
              "      <td>NaN</td>\n",
              "      <td>NaN</td>\n",
              "      <td>NaN</td>\n",
              "      <td>...</td>\n",
              "      <td>NaN</td>\n",
              "      <td>NaN</td>\n",
              "      <td>NaN</td>\n",
              "      <td>NaN</td>\n",
              "      <td>NaN</td>\n",
              "      <td>NaN</td>\n",
              "      <td>NaN</td>\n",
              "      <td>NaN</td>\n",
              "      <td>/content/drive/MyDrive/clipped_videos/M01003OS...</td>\n",
              "      <td>0</td>\n",
              "    </tr>\n",
              "    <tr>\n",
              "      <th>1703</th>\n",
              "      <td>171.891040</td>\n",
              "      <td>-2.430191</td>\n",
              "      <td>133.715125</td>\n",
              "      <td>97.497507</td>\n",
              "      <td>0.993162</td>\n",
              "      <td>180.049103</td>\n",
              "      <td>178.954210</td>\n",
              "      <td>179.415097</td>\n",
              "      <td>182.681010</td>\n",
              "      <td>189.068486</td>\n",
              "      <td>...</td>\n",
              "      <td>0.245714</td>\n",
              "      <td>0.023812</td>\n",
              "      <td>0.001570</td>\n",
              "      <td>0.038950</td>\n",
              "      <td>0.018425</td>\n",
              "      <td>0.024437</td>\n",
              "      <td>0.855501</td>\n",
              "      <td>0.037305</td>\n",
              "      <td>/content/drive/MyDrive/clipped_videos/M01003OS...</td>\n",
              "      <td>80</td>\n",
              "    </tr>\n",
              "    <tr>\n",
              "      <th>1704</th>\n",
              "      <td>NaN</td>\n",
              "      <td>NaN</td>\n",
              "      <td>NaN</td>\n",
              "      <td>NaN</td>\n",
              "      <td>NaN</td>\n",
              "      <td>NaN</td>\n",
              "      <td>NaN</td>\n",
              "      <td>NaN</td>\n",
              "      <td>NaN</td>\n",
              "      <td>NaN</td>\n",
              "      <td>...</td>\n",
              "      <td>NaN</td>\n",
              "      <td>NaN</td>\n",
              "      <td>NaN</td>\n",
              "      <td>NaN</td>\n",
              "      <td>NaN</td>\n",
              "      <td>NaN</td>\n",
              "      <td>NaN</td>\n",
              "      <td>NaN</td>\n",
              "      <td>/content/drive/MyDrive/clipped_videos/M01003OS...</td>\n",
              "      <td>160</td>\n",
              "    </tr>\n",
              "    <tr>\n",
              "      <th>1705</th>\n",
              "      <td>NaN</td>\n",
              "      <td>NaN</td>\n",
              "      <td>NaN</td>\n",
              "      <td>NaN</td>\n",
              "      <td>NaN</td>\n",
              "      <td>NaN</td>\n",
              "      <td>NaN</td>\n",
              "      <td>NaN</td>\n",
              "      <td>NaN</td>\n",
              "      <td>NaN</td>\n",
              "      <td>...</td>\n",
              "      <td>NaN</td>\n",
              "      <td>NaN</td>\n",
              "      <td>NaN</td>\n",
              "      <td>NaN</td>\n",
              "      <td>NaN</td>\n",
              "      <td>NaN</td>\n",
              "      <td>NaN</td>\n",
              "      <td>NaN</td>\n",
              "      <td>/content/drive/MyDrive/clipped_videos/M01003OS...</td>\n",
              "      <td>240</td>\n",
              "    </tr>\n",
              "    <tr>\n",
              "      <th>1706</th>\n",
              "      <td>350.131724</td>\n",
              "      <td>94.808900</td>\n",
              "      <td>52.369419</td>\n",
              "      <td>66.675815</td>\n",
              "      <td>0.998732</td>\n",
              "      <td>349.653712</td>\n",
              "      <td>350.268380</td>\n",
              "      <td>351.720208</td>\n",
              "      <td>353.576764</td>\n",
              "      <td>356.181584</td>\n",
              "      <td>...</td>\n",
              "      <td>0.739612</td>\n",
              "      <td>0.040720</td>\n",
              "      <td>0.000069</td>\n",
              "      <td>0.000195</td>\n",
              "      <td>0.000690</td>\n",
              "      <td>0.020443</td>\n",
              "      <td>0.262267</td>\n",
              "      <td>0.675616</td>\n",
              "      <td>/content/drive/MyDrive/clipped_videos/M01003OS...</td>\n",
              "      <td>320</td>\n",
              "    </tr>\n",
              "    <tr>\n",
              "      <th>1707</th>\n",
              "      <td>201.755315</td>\n",
              "      <td>92.469228</td>\n",
              "      <td>48.354442</td>\n",
              "      <td>65.743301</td>\n",
              "      <td>0.998139</td>\n",
              "      <td>200.704801</td>\n",
              "      <td>200.579228</td>\n",
              "      <td>201.480677</td>\n",
              "      <td>203.604697</td>\n",
              "      <td>206.934392</td>\n",
              "      <td>...</td>\n",
              "      <td>0.738715</td>\n",
              "      <td>0.001534</td>\n",
              "      <td>0.000766</td>\n",
              "      <td>0.161664</td>\n",
              "      <td>0.001206</td>\n",
              "      <td>0.379285</td>\n",
              "      <td>0.031207</td>\n",
              "      <td>0.424338</td>\n",
              "      <td>/content/drive/MyDrive/clipped_videos/M01003OS...</td>\n",
              "      <td>320</td>\n",
              "    </tr>\n",
              "    <tr>\n",
              "      <th>1708</th>\n",
              "      <td>NaN</td>\n",
              "      <td>NaN</td>\n",
              "      <td>NaN</td>\n",
              "      <td>NaN</td>\n",
              "      <td>NaN</td>\n",
              "      <td>NaN</td>\n",
              "      <td>NaN</td>\n",
              "      <td>NaN</td>\n",
              "      <td>NaN</td>\n",
              "      <td>NaN</td>\n",
              "      <td>...</td>\n",
              "      <td>NaN</td>\n",
              "      <td>NaN</td>\n",
              "      <td>NaN</td>\n",
              "      <td>NaN</td>\n",
              "      <td>NaN</td>\n",
              "      <td>NaN</td>\n",
              "      <td>NaN</td>\n",
              "      <td>NaN</td>\n",
              "      <td>/content/drive/MyDrive/clipped_videos/M01003OS...</td>\n",
              "      <td>400</td>\n",
              "    </tr>\n",
              "    <tr>\n",
              "      <th>1709</th>\n",
              "      <td>NaN</td>\n",
              "      <td>NaN</td>\n",
              "      <td>NaN</td>\n",
              "      <td>NaN</td>\n",
              "      <td>NaN</td>\n",
              "      <td>NaN</td>\n",
              "      <td>NaN</td>\n",
              "      <td>NaN</td>\n",
              "      <td>NaN</td>\n",
              "      <td>NaN</td>\n",
              "      <td>...</td>\n",
              "      <td>NaN</td>\n",
              "      <td>NaN</td>\n",
              "      <td>NaN</td>\n",
              "      <td>NaN</td>\n",
              "      <td>NaN</td>\n",
              "      <td>NaN</td>\n",
              "      <td>NaN</td>\n",
              "      <td>NaN</td>\n",
              "      <td>/content/drive/MyDrive/clipped_videos/M01003OS...</td>\n",
              "      <td>480</td>\n",
              "    </tr>\n",
              "  </tbody>\n",
              "</table>\n",
              "<p>8 rows × 173 columns</p>\n",
              "</div>\n",
              "      <button class=\"colab-df-convert\" onclick=\"convertToInteractive('df-3641ed1e-b9e6-4667-98b0-de89b722febb')\"\n",
              "              title=\"Convert this dataframe to an interactive table.\"\n",
              "              style=\"display:none;\">\n",
              "        \n",
              "  <svg xmlns=\"http://www.w3.org/2000/svg\" height=\"24px\"viewBox=\"0 0 24 24\"\n",
              "       width=\"24px\">\n",
              "    <path d=\"M0 0h24v24H0V0z\" fill=\"none\"/>\n",
              "    <path d=\"M18.56 5.44l.94 2.06.94-2.06 2.06-.94-2.06-.94-.94-2.06-.94 2.06-2.06.94zm-11 1L8.5 8.5l.94-2.06 2.06-.94-2.06-.94L8.5 2.5l-.94 2.06-2.06.94zm10 10l.94 2.06.94-2.06 2.06-.94-2.06-.94-.94-2.06-.94 2.06-2.06.94z\"/><path d=\"M17.41 7.96l-1.37-1.37c-.4-.4-.92-.59-1.43-.59-.52 0-1.04.2-1.43.59L10.3 9.45l-7.72 7.72c-.78.78-.78 2.05 0 2.83L4 21.41c.39.39.9.59 1.41.59.51 0 1.02-.2 1.41-.59l7.78-7.78 2.81-2.81c.8-.78.8-2.07 0-2.86zM5.41 20L4 18.59l7.72-7.72 1.47 1.35L5.41 20z\"/>\n",
              "  </svg>\n",
              "      </button>\n",
              "      \n",
              "  <style>\n",
              "    .colab-df-container {\n",
              "      display:flex;\n",
              "      flex-wrap:wrap;\n",
              "      gap: 12px;\n",
              "    }\n",
              "\n",
              "    .colab-df-convert {\n",
              "      background-color: #E8F0FE;\n",
              "      border: none;\n",
              "      border-radius: 50%;\n",
              "      cursor: pointer;\n",
              "      display: none;\n",
              "      fill: #1967D2;\n",
              "      height: 32px;\n",
              "      padding: 0 0 0 0;\n",
              "      width: 32px;\n",
              "    }\n",
              "\n",
              "    .colab-df-convert:hover {\n",
              "      background-color: #E2EBFA;\n",
              "      box-shadow: 0px 1px 2px rgba(60, 64, 67, 0.3), 0px 1px 3px 1px rgba(60, 64, 67, 0.15);\n",
              "      fill: #174EA6;\n",
              "    }\n",
              "\n",
              "    [theme=dark] .colab-df-convert {\n",
              "      background-color: #3B4455;\n",
              "      fill: #D2E3FC;\n",
              "    }\n",
              "\n",
              "    [theme=dark] .colab-df-convert:hover {\n",
              "      background-color: #434B5C;\n",
              "      box-shadow: 0px 1px 3px 1px rgba(0, 0, 0, 0.15);\n",
              "      filter: drop-shadow(0px 1px 2px rgba(0, 0, 0, 0.3));\n",
              "      fill: #FFFFFF;\n",
              "    }\n",
              "  </style>\n",
              "\n",
              "      <script>\n",
              "        const buttonEl =\n",
              "          document.querySelector('#df-3641ed1e-b9e6-4667-98b0-de89b722febb button.colab-df-convert');\n",
              "        buttonEl.style.display =\n",
              "          google.colab.kernel.accessAllowed ? 'block' : 'none';\n",
              "\n",
              "        async function convertToInteractive(key) {\n",
              "          const element = document.querySelector('#df-3641ed1e-b9e6-4667-98b0-de89b722febb');\n",
              "          const dataTable =\n",
              "            await google.colab.kernel.invokeFunction('convertToInteractive',\n",
              "                                                     [key], {});\n",
              "          if (!dataTable) return;\n",
              "\n",
              "          const docLinkHtml = 'Like what you see? Visit the ' +\n",
              "            '<a target=\"_blank\" href=https://colab.research.google.com/notebooks/data_table.ipynb>data table notebook</a>'\n",
              "            + ' to learn more about interactive tables.';\n",
              "          element.innerHTML = '';\n",
              "          dataTable['output_type'] = 'display_data';\n",
              "          await google.colab.output.renderOutput(dataTable, element);\n",
              "          const docLink = document.createElement('div');\n",
              "          docLink.innerHTML = docLinkHtml;\n",
              "          element.appendChild(docLink);\n",
              "        }\n",
              "      </script>\n",
              "    </div>\n",
              "  </div>\n",
              "  "
            ]
          },
          "metadata": {},
          "execution_count": 303
        }
      ]
    },
    {
      "cell_type": "code",
      "source": [
        "import os \n",
        "os.listdir('/content/drive/MyDrive/ccu_videos/clipped_videos')"
      ],
      "metadata": {
        "id": "tFcK0t9tYEjJ"
      },
      "execution_count": null,
      "outputs": []
    },
    {
      "cell_type": "code",
      "source": [
        "def extract_labels(inputs):\n",
        "  labels = []\n",
        "  for i in inputs:\n",
        "    i = i.replace(\"/content/drive/MyDrive/clipped_videos/\", \"\")\n",
        "    if 'cp' in i.rsplit('_', 1)[0]:\n",
        "      labels.append(\"changepoint\")\n",
        "    else:\n",
        "      labels.append(\"non_changepoint\")\n",
        "  return labels\n",
        "\n",
        "\n",
        "labels = extract_labels(visual_features['input'])\n"
      ],
      "metadata": {
        "id": "ZFRMJHJmZYQ6"
      },
      "execution_count": null,
      "outputs": []
    },
    {
      "cell_type": "code",
      "source": [
        "visual_features['label'] = labels"
      ],
      "metadata": {
        "id": "bnvJZgrwczRQ"
      },
      "execution_count": null,
      "outputs": []
    },
    {
      "cell_type": "code",
      "source": [
        "def split(df, percentage):\n",
        "  df = df.sample(frac = 1) #shuffle\n",
        "  index = int(percentage*len(df))\n",
        "  train = df.iloc[:index,:]\n",
        "  test = df.iloc[index:,:]\n",
        "\n",
        "  return train, test \n",
        "visual_features = visual_features.dropna()\n",
        "train, test = split(visual_features, 0.8)\n",
        "\n"
      ],
      "metadata": {
        "id": "2wl3YcDvc33g"
      },
      "execution_count": null,
      "outputs": []
    },
    {
      "cell_type": "code",
      "source": [
        "from sklearn.linear_model import LogisticRegression\n",
        "y_train = train['label']\n",
        "X_train = train.drop(['FaceRectX', 'FaceRectY', 'FaceRectWidth', 'FaceRectHeight',\n",
        "       'FaceScore', 'label', 'input', 'frame'], axis = 1)\n",
        "\n",
        "y_test = test['label']\n",
        "X_test = test.drop(['FaceRectX', 'FaceRectY', 'FaceRectWidth', 'FaceRectHeight',\n",
        "       'FaceScore', 'label', 'input', 'frame'], axis = 1)\n",
        "clf = LogisticRegression(random_state=0).fit(X_train, y_train)"
      ],
      "metadata": {
        "colab": {
          "base_uri": "https://localhost:8080/"
        },
        "id": "Mo9LKsaTfGbi",
        "outputId": "8cb2df45-5c5c-447b-fe7b-8baccf19c9e3"
      },
      "execution_count": null,
      "outputs": [
        {
          "output_type": "stream",
          "name": "stderr",
          "text": [
            "/usr/local/lib/python3.9/dist-packages/sklearn/linear_model/_logistic.py:458: ConvergenceWarning: lbfgs failed to converge (status=1):\n",
            "STOP: TOTAL NO. of ITERATIONS REACHED LIMIT.\n",
            "\n",
            "Increase the number of iterations (max_iter) or scale the data as shown in:\n",
            "    https://scikit-learn.org/stable/modules/preprocessing.html\n",
            "Please also refer to the documentation for alternative solver options:\n",
            "    https://scikit-learn.org/stable/modules/linear_model.html#logistic-regression\n",
            "  n_iter_i = _check_optimize_result(\n"
          ]
        }
      ]
    },
    {
      "cell_type": "code",
      "source": [
        "from sklearn.metrics import f1_score, accuracy_score\n",
        "y_pred = clf.predict(X_test)\n",
        "print(\"f1: \", f1_score(y_test, y_pred, average='macro'))\n",
        "print(\"accuracy: \", accuracy_score(y_test, y_pred))"
      ],
      "metadata": {
        "colab": {
          "base_uri": "https://localhost:8080/"
        },
        "id": "YdmQ0cEnfwnR",
        "outputId": "1a41915e-3899-42fe-ad2b-59238b8317db"
      },
      "execution_count": null,
      "outputs": [
        {
          "output_type": "stream",
          "name": "stdout",
          "text": [
            "f1:  0.42706777128887674\n",
            "accuracy:  0.6970338983050848\n"
          ]
        }
      ]
    },
    {
      "cell_type": "code",
      "source": [
        "import matplotlib.pyplot as plt\n",
        "from sklearn.metrics import confusion_matrix, ConfusionMatrixDisplay\n",
        "cm = confusion_matrix(y_test, y_pred, labels=clf.classes_)\n",
        "disp = ConfusionMatrixDisplay(confusion_matrix=cm,display_labels=clf.classes_)\n",
        "disp.plot()\n",
        "plt.show()"
      ],
      "metadata": {
        "colab": {
          "base_uri": "https://localhost:8080/",
          "height": 280
        },
        "id": "BMxX76hphKTk",
        "outputId": "39a2a252-f6a7-49a7-fa7f-d76455fadd5c"
      },
      "execution_count": null,
      "outputs": [
        {
          "output_type": "display_data",
          "data": {
            "text/plain": [
              "<Figure size 432x288 with 2 Axes>"
            ],
            "image/png": "[encoded data removed]"
          },
          "metadata": {
            "needs_background": "light"
          }
        }
      ]
    },
    {
      "cell_type": "code",
      "source": [
        "#create similarity df\n",
        "dfs = visual_features.groupby('input')    \n",
        "dfs_list = [dfs.get_group(x) for x in dfs.groups]"
      ],
      "metadata": {
        "id": "wx__B2pPtYsz"
      },
      "execution_count": null,
      "outputs": []
    },
    {
      "cell_type": "code",
      "source": [
        "len(dfs_list[0])"
      ],
      "metadata": {
        "colab": {
          "base_uri": "https://localhost:8080/"
        },
        "id": "RcBkipo7_uFU",
        "outputId": "03edb8e9-67b9-4048-a88d-7818d75972db"
      },
      "execution_count": null,
      "outputs": [
        {
          "output_type": "execute_result",
          "data": {
            "text/plain": [
              "16"
            ]
          },
          "metadata": {},
          "execution_count": 106
        }
      ]
    },
    {
      "cell_type": "code",
      "source": [
        "def drop_non_duplicate(df):\n",
        "  to_drop = []\n",
        "  for ind in df.index:\n",
        "    frame = df['frame'][ind]\n",
        "    d = df[df['frame'] == frame]\n",
        "    if len(d) %2 != 0:\n",
        "      to_drop.append(ind)\n",
        "  \n",
        "  df = df.drop(to_drop)\n",
        "  return df\n",
        "\n",
        "df = drop_non_duplicate(dfs_list[0])"
      ],
      "metadata": {
        "id": "BzBQzBhwuvJx"
      },
      "execution_count": null,
      "outputs": []
    },
    {
      "cell_type": "code",
      "source": [
        "output_list = [drop_non_duplicate(df) for df in dfs_list]"
      ],
      "metadata": {
        "id": "uwUprIp6A8wu"
      },
      "execution_count": null,
      "outputs": []
    },
    {
      "cell_type": "code",
      "source": [
        "import numpy as np\n",
        "def similarity(df):\n",
        "  if len(df) > 0:\n",
        "    sim_df = pd.DataFrame(columns=['sim','label'])\n",
        "    labels = list(df['label'])\n",
        "    label = labels[0]\n",
        "    print(label)\n",
        "    df = df.drop(['FaceRectX', 'FaceRectY', 'FaceRectWidth', 'FaceRectHeight',\n",
        "        'FaceScore', 'label', 'input', 'frame'], axis = 1)\n",
        "    for i in range(0,len(df.index)-1, 2):\n",
        "      l1 = df.iloc[i]\n",
        "      l2 = df.iloc[i+1]\n",
        "      sim = np.dot(l1,l2)/(np.linalg.norm(l1)*np.linalg.norm(l2))\n",
        "      # row = pd.Series([sim, label], index = sim_df.columns)\n",
        "      row = [sim, label]\n",
        "      sim_df.loc[len(sim_df)] = row\n",
        "    \n",
        "    return sim_df\n",
        "      \n",
        "\n"
      ],
      "metadata": {
        "id": "qs8hJaS_BY0e"
      },
      "execution_count": null,
      "outputs": []
    },
    {
      "cell_type": "code",
      "source": [
        "sims_list = [similarity(df) for df in output_list]"
      ],
      "metadata": {
        "id": "r5IlZy7qD_Q6"
      },
      "execution_count": null,
      "outputs": []
    },
    {
      "cell_type": "code",
      "source": [
        "similarity_features = pd.concat(sims_list)"
      ],
      "metadata": {
        "id": "5ZNj2uXvVOZZ"
      },
      "execution_count": null,
      "outputs": []
    },
    {
      "cell_type": "code",
      "source": [
        "def split(df, percentage):\n",
        "  df = df.sample(frac = 1) #shuffle\n",
        "  index = int(percentage*len(df))\n",
        "  train = df.iloc[:index,:]\n",
        "  test = df.iloc[index:,:]\n",
        "\n",
        "  return train, test \n",
        "similarity_features = similarity_features.dropna()\n",
        "train, test = split(similarity_features, 0.8)"
      ],
      "metadata": {
        "colab": {
          "base_uri": "https://localhost:8080/",
          "height": 218
        },
        "id": "bjLaRQ-SdCho",
        "outputId": "7c3e8611-6341-4e1d-fb0a-992d8c9062c9"
      },
      "execution_count": null,
      "outputs": [
        {
          "output_type": "error",
          "ename": "NameError",
          "evalue": "ignored",
          "traceback": [
            "\u001b[0;31m---------------------------------------------------------------------------\u001b[0m",
            "\u001b[0;31mNameError\u001b[0m                                 Traceback (most recent call last)",
            "\u001b[0;32m<ipython-input-64-661dd59f435a>\u001b[0m in \u001b[0;36m<module>\u001b[0;34m\u001b[0m\n\u001b[1;32m      6\u001b[0m \u001b[0;34m\u001b[0m\u001b[0m\n\u001b[1;32m      7\u001b[0m   \u001b[0;32mreturn\u001b[0m \u001b[0mtrain\u001b[0m\u001b[0;34m,\u001b[0m \u001b[0mtest\u001b[0m\u001b[0;34m\u001b[0m\u001b[0;34m\u001b[0m\u001b[0m\n\u001b[0;32m----> 8\u001b[0;31m \u001b[0msimilarity_features\u001b[0m \u001b[0;34m=\u001b[0m \u001b[0msimilarity_features\u001b[0m\u001b[0;34m.\u001b[0m\u001b[0mdropna\u001b[0m\u001b[0;34m(\u001b[0m\u001b[0;34m)\u001b[0m\u001b[0;34m\u001b[0m\u001b[0;34m\u001b[0m\u001b[0m\n\u001b[0m\u001b[1;32m      9\u001b[0m \u001b[0mtrain\u001b[0m\u001b[0;34m,\u001b[0m \u001b[0mtest\u001b[0m \u001b[0;34m=\u001b[0m \u001b[0msplit\u001b[0m\u001b[0;34m(\u001b[0m\u001b[0msimilarity_features\u001b[0m\u001b[0;34m,\u001b[0m \u001b[0;36m0.8\u001b[0m\u001b[0;34m)\u001b[0m\u001b[0;34m\u001b[0m\u001b[0;34m\u001b[0m\u001b[0m\n",
            "\u001b[0;31mNameError\u001b[0m: name 'similarity_features' is not defined"
          ]
        }
      ]
    },
    {
      "cell_type": "code",
      "source": [
        "from sklearn.linear_model import LogisticRegression\n",
        "y_train = train['label']\n",
        "X_train = train.drop(['label'], axis=1)\n",
        "\n",
        "y_test = test['label']\n",
        "X_test = test.drop([ 'label'], axis = 1)\n",
        "clf = LogisticRegression(random_state=0).fit(X_train, y_train)"
      ],
      "metadata": {
        "id": "wYnr4pRLdPqs"
      },
      "execution_count": null,
      "outputs": []
    },
    {
      "cell_type": "code",
      "source": [
        "from sklearn.metrics import f1_score, accuracy_score\n",
        "y_pred = clf.predict(X_test)\n",
        "print(\"f1: \", f1_score(y_test, y_pred, average='macro'))\n",
        "print(\"accuracy: \", accuracy_score(y_test, y_pred))\n",
        "\n",
        "\n",
        "import matplotlib.pyplot as plt\n",
        "from sklearn.metrics import confusion_matrix, ConfusionMatrixDisplay\n",
        "cm = confusion_matrix(y_test, y_pred, labels=clf.classes_)\n",
        "disp = ConfusionMatrixDisplay(confusion_matrix=cm,display_labels=clf.classes_)\n",
        "disp.plot()\n",
        "plt.show()"
      ],
      "metadata": {
        "colab": {
          "base_uri": "https://localhost:8080/",
          "height": 315
        },
        "id": "ma-hN1TldeT4",
        "outputId": "28a5371e-fbfd-4eca-bf19-9798d1cb9c7f"
      },
      "execution_count": null,
      "outputs": [
        {
          "output_type": "stream",
          "name": "stdout",
          "text": [
            "f1:  0.4010152284263959\n",
            "accuracy:  0.6694915254237288\n"
          ]
        },
        {
          "output_type": "display_data",
          "data": {
            "text/plain": [
              "<Figure size 432x288 with 2 Axes>"
            ],
            "image/png": "[encoded data removed]"
          },
          "metadata": {
            "needs_background": "light"
          }
        }
      ]
    },
    {
      "cell_type": "code",
      "source": [
        "visual_features.columns"
      ],
      "metadata": {
        "colab": {
          "base_uri": "https://localhost:8080/"
        },
        "id": "OulJWK3GjAiS",
        "outputId": "028e8f36-d9b0-4967-bcee-5088f7d495c1"
      },
      "execution_count": null,
      "outputs": [
        {
          "output_type": "execute_result",
          "data": {
            "text/plain": [
              "Index(['FaceRectX', 'FaceRectY', 'FaceRectWidth', 'FaceRectHeight',\n",
              "       'FaceScore', 'x_0', 'x_1', 'x_2', 'x_3', 'x_4',\n",
              "       ...\n",
              "       'anger', 'disgust', 'fear', 'happiness', 'sadness', 'surprise',\n",
              "       'neutral', 'input', 'frame', 'label'],\n",
              "      dtype='object', length=174)"
            ]
          },
          "metadata": {},
          "execution_count": 311
        }
      ]
    },
    {
      "cell_type": "code",
      "source": [
        "import pandas as pd\n",
        "speech_features = pd.read_csv('/content/drive/MyDrive/ccu_videos/audio_features.csv')"
      ],
      "metadata": {
        "id": "hEOP2CqJjdWa"
      },
      "execution_count": null,
      "outputs": []
    },
    {
      "cell_type": "code",
      "source": [
        "def input_simpl(df):\n",
        "  simpl = []\n",
        "  for ind in df.index:\n",
        "    input = df['file'][ind]\n",
        "    input = input.replace(\".mp3\", \"\")\n",
        "    input = input.replace('/content/drive/MyDrive/ccu_videos/audio_clips//',\"\")\n",
        "    simpl.append(input)\n",
        "  return simpl \n",
        "\n",
        "input_match = input_simpl(speech_features)\n",
        "speech_features['input'] = input_match"
      ],
      "metadata": {
        "id": "OtaLqycvkGyV"
      },
      "execution_count": null,
      "outputs": []
    },
    {
      "cell_type": "code",
      "source": [
        "combined = pd.merge(visual_features, speech_features, on = 'CATEGORY', how = 'left')"
      ],
      "metadata": {
        "colab": {
          "base_uri": "https://localhost:8080/",
          "height": 35
        },
        "id": "GHQ5LOE0k2Vi",
        "outputId": "83a0a1e9-264d-493f-e13e-5ff85a36db3b"
      },
      "execution_count": null,
      "outputs": [
        {
          "output_type": "execute_result",
          "data": {
            "text/plain": [
              "'/content/drive/MyDrive/ccu_videos/audio_clips//M01003JHU_cp_308.mp4_ncp.mp4'"
            ],
            "application/vnd.google.colaboratory.intrinsic+json": {
              "type": "string"
            }
          },
          "metadata": {},
          "execution_count": 21
        }
      ]
    },
    {
      "cell_type": "code",
      "source": [
        "def input_simplv(df):\n",
        "  simpl = []\n",
        "  for ind in df.index:\n",
        "    input = df['input'][ind]\n",
        "    input = input.replace('/content/drive/MyDrive/clipped_videos/',\"\")\n",
        "    simpl.append(input)\n",
        "  return simpl \n",
        "\n",
        "input_match = input_simplv(visual_features)\n",
        "visual_features['input'] = input_match"
      ],
      "metadata": {
        "id": "9bPF4JiIlyZY"
      },
      "execution_count": null,
      "outputs": []
    },
    {
      "cell_type": "code",
      "source": [
        "combined_features = pd.merge(visual_features, speech_features, on = 'input', how = 'left')"
      ],
      "metadata": {
        "id": "FKmwLxegnGf6"
      },
      "execution_count": null,
      "outputs": []
    },
    {
      "cell_type": "code",
      "source": [
        "l1 = list(visual_features['input'])\n",
        "l2 = list(speech_features['input'])"
      ],
      "metadata": {
        "id": "4M0SRCrNnx_o"
      },
      "execution_count": null,
      "outputs": []
    },
    {
      "cell_type": "code",
      "source": [
        "#train a combined classifer \n",
        "def split(df, percentage):\n",
        "  df = df.sample(frac = 1) #shuffle\n",
        "  index = int(percentage*len(df))\n",
        "  train = df.iloc[:index,:]\n",
        "  test = df.iloc[index:,:]\n",
        "\n",
        "  return train, test \n",
        "combined_features= combined_features.dropna()\n",
        "combined_features = combined_features.drop([\"FaceRectX\",\t\"FaceRectY\",\t\"FaceRectWidth\",\t\"FaceRectHeight\",\t\"FaceScore\",\t\"Unnamed: 0\", \"file\", \"input\" ,\"frame\"], axis = 1)\n",
        "train, test = split(combined_features, 0.8)"
      ],
      "metadata": {
        "id": "p64pmIL3oJNV"
      },
      "execution_count": null,
      "outputs": []
    },
    {
      "cell_type": "code",
      "source": [
        "from sklearn.linear_model import LogisticRegression\n",
        "y_train = train['label']\n",
        "X_train = train.drop(['label'], axis=1)\n",
        "\n",
        "y_test = test['label']\n",
        "X_test = test.drop([ 'label'], axis = 1)\n",
        "clf = LogisticRegression(random_state=0).fit(X_train, y_train)\n",
        "\n",
        "from sklearn.metrics import f1_score, accuracy_score\n",
        "y_pred = clf.predict(X_test)\n",
        "print(\"f1: \", f1_score(y_test, y_pred, average='macro'))\n",
        "print(\"accuracy: \", accuracy_score(y_test, y_pred))\n",
        "\n",
        "\n",
        "import matplotlib.pyplot as plt\n",
        "from sklearn.metrics import confusion_matrix, ConfusionMatrixDisplay\n",
        "cm = confusion_matrix(y_test, y_pred, labels=clf.classes_)\n",
        "disp = ConfusionMatrixDisplay(confusion_matrix=cm,display_labels=clf.classes_)\n",
        "disp.plot()\n",
        "plt.show()"
      ],
      "metadata": {
        "colab": {
          "base_uri": "https://localhost:8080/",
          "height": 454
        },
        "id": "ptTuH8P1o3L1",
        "outputId": "61168f10-c5d2-4407-94a2-f40f87918f80"
      },
      "execution_count": null,
      "outputs": [
        {
          "output_type": "stream",
          "name": "stderr",
          "text": [
            "/usr/local/lib/python3.9/dist-packages/sklearn/linear_model/_logistic.py:458: ConvergenceWarning: lbfgs failed to converge (status=1):\n",
            "STOP: TOTAL NO. of ITERATIONS REACHED LIMIT.\n",
            "\n",
            "Increase the number of iterations (max_iter) or scale the data as shown in:\n",
            "    https://scikit-learn.org/stable/modules/preprocessing.html\n",
            "Please also refer to the documentation for alternative solver options:\n",
            "    https://scikit-learn.org/stable/modules/linear_model.html#logistic-regression\n",
            "  n_iter_i = _check_optimize_result(\n"
          ]
        },
        {
          "output_type": "stream",
          "name": "stdout",
          "text": [
            "f1:  0.4266401708262173\n",
            "accuracy:  0.6959745762711864\n"
          ]
        },
        {
          "output_type": "display_data",
          "data": {
            "text/plain": [
              "<Figure size 432x288 with 2 Axes>"
            ],
            "image/png": "[encoded data removed]"
          },
          "metadata": {
            "needs_background": "light"
          }
        }
      ]
    },
    {
      "cell_type": "code",
      "source": [
        "speech_features = speech_features.drop(['Unnamed: 0'], axis = 1)"
      ],
      "metadata": {
        "id": "wUZNz84iqZui"
      },
      "execution_count": null,
      "outputs": []
    },
    {
      "cell_type": "code",
      "source": [
        "speech_features = speech_features.drop(['file'], axis = 1)"
      ],
      "metadata": {
        "id": "c-rCBVbbrKVm"
      },
      "execution_count": null,
      "outputs": []
    },
    {
      "cell_type": "code",
      "source": [
        "def extract_labels(inputs):\n",
        "  labels = []\n",
        "  for i in inputs:\n",
        "    if 'cp' in i.rsplit('_', 1)[0]:\n",
        "      labels.append(\"changepoint\")\n",
        "    else:\n",
        "      labels.append(\"non_changepoint\")\n",
        "  return labels\n",
        "labels = extract_labels(speech_features[\"input\"])"
      ],
      "metadata": {
        "id": "Qcoy5dBbrQFq"
      },
      "execution_count": null,
      "outputs": []
    },
    {
      "cell_type": "code",
      "source": [
        "speech_features[\"label\"] = labels"
      ],
      "metadata": {
        "id": "6_3zql_OriB7"
      },
      "execution_count": null,
      "outputs": []
    },
    {
      "cell_type": "code",
      "source": [
        "train, test = split(speech_features, 0.8)"
      ],
      "metadata": {
        "id": "jR1EQJEWrmJ1"
      },
      "execution_count": null,
      "outputs": []
    },
    {
      "cell_type": "code",
      "source": [
        "from sklearn.linear_model import LogisticRegression\n",
        "y_train = train['label']\n",
        "X_train = train.drop(['label', 'input'], axis=1)\n",
        "\n",
        "y_test = test['label']\n",
        "X_test = test.drop([ 'label','input'], axis = 1)\n",
        "clf = LogisticRegression(random_state=0).fit(X_train, y_train)\n",
        "\n",
        "from sklearn.metrics import f1_score, accuracy_score\n",
        "y_pred = clf.predict(X_test)\n",
        "print(\"f1: \", f1_score(y_test, y_pred, average='macro'))\n",
        "print(\"accuracy: \", accuracy_score(y_test, y_pred))\n",
        "\n",
        "\n",
        "import matplotlib.pyplot as plt\n",
        "from sklearn.metrics import confusion_matrix, ConfusionMatrixDisplay\n",
        "cm = confusion_matrix(y_test, y_pred, labels=clf.classes_)\n",
        "disp = ConfusionMatrixDisplay(confusion_matrix=cm,display_labels=clf.classes_)\n",
        "disp.plot()\n",
        "plt.show()"
      ],
      "metadata": {
        "colab": {
          "base_uri": "https://localhost:8080/",
          "height": 458
        },
        "id": "seKZXPErrxE2",
        "outputId": "ed6d6f2d-f97f-486c-bd11-12961cf6b859"
      },
      "execution_count": null,
      "outputs": [
        {
          "output_type": "stream",
          "name": "stdout",
          "text": [
            "f1:  0.41666666666666663\n",
            "accuracy:  0.7142857142857143\n"
          ]
        },
        {
          "output_type": "stream",
          "name": "stderr",
          "text": [
            "/usr/local/lib/python3.9/dist-packages/sklearn/linear_model/_logistic.py:458: ConvergenceWarning: lbfgs failed to converge (status=1):\n",
            "STOP: TOTAL NO. of ITERATIONS REACHED LIMIT.\n",
            "\n",
            "Increase the number of iterations (max_iter) or scale the data as shown in:\n",
            "    https://scikit-learn.org/stable/modules/preprocessing.html\n",
            "Please also refer to the documentation for alternative solver options:\n",
            "    https://scikit-learn.org/stable/modules/linear_model.html#logistic-regression\n",
            "  n_iter_i = _check_optimize_result(\n"
          ]
        },
        {
          "output_type": "display_data",
          "data": {
            "text/plain": [
              "<Figure size 432x288 with 2 Axes>"
            ],
            "image/png": "[encoded data removed]"
          },
          "metadata": {
            "needs_background": "light"
          }
        }
      ]
    }
  ]
}