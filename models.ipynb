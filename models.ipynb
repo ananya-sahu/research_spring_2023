{
  "nbformat": 4,
  "nbformat_minor": 0,
  "metadata": {
    "colab": {
      "provenance": []
    },
    "kernelspec": {
      "name": "python3",
      "display_name": "Python 3"
    },
    "language_info": {
      "name": "python"
    }
  },
  "cells": [
    {
      "cell_type": "code",
      "source": [
        "# !pip install -q py-feat"
      ],
      "metadata": {
        "colab": {
          "base_uri": "https://localhost:8080/"
        },
        "id": "4cZ3tHs30L9B",
        "outputId": "d8c318a8-1e36-4e5e-c182-d7eaf535fe68"
      },
      "execution_count": 1,
      "outputs": [
        {
          "output_type": "stream",
          "name": "stdout",
          "text": [
            "\u001b[2K     \u001b[90m━━━━━━━━━━━━━━━━━━━━━━━━━━━━━━━━━━━━━━━━\u001b[0m \u001b[32m7.9/7.9 MB\u001b[0m \u001b[31m53.0 MB/s\u001b[0m eta \u001b[36m0:00:00\u001b[0m\n",
            "\u001b[2K     \u001b[90m━━━━━━━━━━━━━━━━━━━━━━━━━━━━━━━━━━━━━━━━\u001b[0m \u001b[32m3.3/3.3 MB\u001b[0m \u001b[31m68.2 MB/s\u001b[0m eta \u001b[36m0:00:00\u001b[0m\n",
            "\u001b[2K     \u001b[90m━━━━━━━━━━━━━━━━━━━━━━━━━━━━━━━━━━━━━━\u001b[0m \u001b[32m653.4/653.4 kB\u001b[0m \u001b[31m42.9 MB/s\u001b[0m eta \u001b[36m0:00:00\u001b[0m\n",
            "\u001b[2K     \u001b[90m━━━━━━━━━━━━━━━━━━━━━━━━━━━━━━━━━━━━━━━━\u001b[0m \u001b[32m31.0/31.0 MB\u001b[0m \u001b[31m13.4 MB/s\u001b[0m eta \u001b[36m0:00:00\u001b[0m\n",
            "\u001b[2K     \u001b[90m━━━━━━━━━━━━━━━━━━━━━━━━━━━━━━━━━━━━━━━━\u001b[0m \u001b[32m10.3/10.3 MB\u001b[0m \u001b[31m48.3 MB/s\u001b[0m eta \u001b[36m0:00:00\u001b[0m\n",
            "\u001b[2K     \u001b[90m━━━━━━━━━━━━━━━━━━━━━━━━━━━━━━━━━━━━━━━━\u001b[0m \u001b[32m3.3/3.3 MB\u001b[0m \u001b[31m31.3 MB/s\u001b[0m eta \u001b[36m0:00:00\u001b[0m\n",
            "\u001b[?25h"
          ]
        }
      ]
    },
    {
      "cell_type": "markdown",
      "source": [
        "load extracted val cp and ncp features and process"
      ],
      "metadata": {
        "id": "0Mr8O_WoOehr"
      }
    },
    {
      "cell_type": "code",
      "source": [
        "import pickle \n",
        "\n",
        "with open('/content/cp_features_val_dyadic.pkl', 'rb') as f:\n",
        "    val_cp = pickle.load(f)\n",
        "\n",
        "with open('/content/ncp_val.pkl', 'rb') as f:\n",
        "    val_ncp = pickle.load(f)\n",
        "\n",
        "\n",
        "with open('/content/is_val.pkl', 'rb') as f:\n",
        "    scalars = pickle.load(f)\n"
      ],
      "metadata": {
        "id": "ufzsKyapC_Q8"
      },
      "execution_count": 2,
      "outputs": []
    },
    {
      "cell_type": "code",
      "source": [
        "imp_s = {}\n",
        "for f in scalars:\n",
        "  cps = scalars[f]\n",
        "  for (t,s) in cps:\n",
        "    imp_s[(f,t)] = s\n",
        "\n"
      ],
      "metadata": {
        "id": "KUQPq0Qm7R0_"
      },
      "execution_count": 4,
      "outputs": []
    },
    {
      "cell_type": "code",
      "source": [
        "#for val_cp run concat_window used for training data as well\n",
        "def get_dataset_features_1(cp,scalars):\n",
        "  features = []\n",
        "  print('change_points')\n",
        "  for file_id in cp:\n",
        "    for time_stamp in cp[file_id]:\n",
        "      impact_scalar = scalars[(file_id, time_stamp)]\n",
        "      i_s = \"\"\n",
        "      if impact_scalar > 3:\n",
        "        i_s = \"high\"\n",
        "      elif impact_scalar < 3:\n",
        "        i_s = \"low\"\n",
        "      elif impact_scalar  ==  3:\n",
        "        i_s = \"three\"\n",
        "      else:\n",
        "        i_s = \"noncp\"\n",
        "\n",
        "      features.append(concat_window(cp[file_id][time_stamp],file_id,i_s,impact_scalar,'cp'))\n",
        "  data = pd.concat(features)\n",
        "  data = data.reset_index(drop=True)\n",
        "  data = data.sample(frac = 1)\n",
        "  return data "
      ],
      "metadata": {
        "id": "yOPQT-GN41IL"
      },
      "execution_count": 5,
      "outputs": []
    },
    {
      "cell_type": "code",
      "source": [
        "#for val_cp run concat_window2 used for training data as well\n",
        "def get_dataset_features_2(cp,scalars):\n",
        "  features = []\n",
        "  print('non change_points')\n",
        "  for file_id in cp:\n",
        "    for time_stamp in cp[file_id]:\n",
        "      impact_scalar = scalars[(file_id, time_stamp)]\n",
        "      i_s = \"\"\n",
        "      if impact_scalar > 3:\n",
        "        i_s = \"high\"\n",
        "      elif impact_scalar < 3:\n",
        "        i_s = \"low\"\n",
        "      elif impact_scalar  ==  3:\n",
        "        i_s = \"three\"\n",
        "      else:\n",
        "        i_s = \"noncp\"\n",
        "\n",
        "      features.append(concat_window2(cp[file_id][time_stamp],file_id,i_s,impact_scalar,'cp'))\n",
        "\n",
        "\n",
        "  data = pd.concat(features)\n",
        "  data = data.reset_index(drop=True)\n",
        "  data = data.sample(frac = 1)\n",
        "  return data "
      ],
      "metadata": {
        "id": "qD2zJwdg83mk"
      },
      "execution_count": 6,
      "outputs": []
    },
    {
      "cell_type": "code",
      "source": [
        "new_val_1 = get_dataset_features_1(val_cp,imp_s)"
      ],
      "metadata": {
        "id": "fT1SOmfx75w-"
      },
      "execution_count": null,
      "outputs": []
    },
    {
      "cell_type": "code",
      "source": [
        "new_val_2 = get_dataset_features_2(val_cp,imp_s)"
      ],
      "metadata": {
        "id": "pLw-IL6a8v2j"
      },
      "execution_count": null,
      "outputs": []
    },
    {
      "cell_type": "code",
      "source": [
        "def concat_window_ncp(frames,file_id,time_stamp,num,label):\n",
        "  df1 = frames[0].drop(['input', 'frame'], axis=1)\n",
        "  df2 = frames[1].drop(['input', 'frame'], axis=1)\n",
        "  diff1 = df1.diff().iloc[1:]\n",
        "  diff1.columns = [str(col) + '_diff1' for col in diff1.columns]\n",
        "  diff2 = df2.diff().iloc[1:]\n",
        "  diff2.columns = [str(col) + '_diff2' for col in diff2.columns]\n",
        "  diff = pd.concat([diff1, diff2], axis=1)\n",
        "  diff['file_id'] = file_id\n",
        "  diff['time'] = time_stamp\n",
        "  diff['impact_scalar'] = \"none\"\n",
        "  diff['label'] = label\n",
        "  diff['impact_scalar_num'] = num\n",
        " \n",
        "  return diff"
      ],
      "metadata": {
        "id": "tYZG-DoM0HdB"
      },
      "execution_count": 12,
      "outputs": []
    },
    {
      "cell_type": "code",
      "source": [
        "def get_dataset_features_1_ncp(ncp):\n",
        "  features = []\n",
        "  print('change_points')\n",
        "  for file_id in ncp:\n",
        "    for frames in ncp[file_id]:\n",
        "      span = ncp[file_id][frames]\n",
        "      if len(span) == 2:\n",
        "    \n",
        "        time_stamp = list(frames)[0]\n",
        "        impact_scalar = 0\n",
        "      \n",
        "        features.append(concat_window_ncp(span,file_id,time_stamp,impact_scalar,'ncp'))\n",
        "  data = pd.concat(features)\n",
        "  data = data.reset_index(drop=True)\n",
        "  data = data.sample(frac = 1)\n",
        "  return data "
      ],
      "metadata": {
        "id": "rXOCgD049PPO"
      },
      "execution_count": 30,
      "outputs": []
    },
    {
      "cell_type": "code",
      "source": [
        "def concat_window2_ncp(frames, file_id,time_stamp,num,label):\n",
        "  df1 = pd.DataFrame(frames[0].drop(['input', 'frame'], axis=1))\n",
        "  df2 = pd.DataFrame(frames[1].drop(['input', 'frame'], axis=1))\n",
        "  diff1 = pd.DataFrame(columns=df1.columns)\n",
        "  diff1.loc[len(diff1.index)] = [i1 * i2 for i1, i2 in zip(list(df1.iloc[0,:]), list(df1.iloc[1,:]))]\n",
        "  diff1.columns = [str(col) + '_diff1' for col in diff1.columns]\n",
        "  \n",
        "  diff2 = pd.DataFrame(columns=df2.columns)\n",
        "  diff2.loc[len(diff2)] = [i1 * i2 for i1, i2 in zip(list(df2.iloc[0,:]), list(df2.iloc[1,:]))]\n",
        "  diff2.columns = [str(col) + '_diff2' for col in diff2.columns]\n",
        "  \n",
        "  diff = pd.concat([diff1, diff2], axis=1)\n",
        "  diff['file_id'] = file_id\n",
        "  diff['time'] = time_stamp\n",
        "  diff['label'] = label\n",
        "  diff['impact_scalar'] = \"none\"\n",
        "  diff['impact_scalar_num'] = num\n",
        " \n",
        "  return diff"
      ],
      "metadata": {
        "id": "IKf502wLAZUO"
      },
      "execution_count": 21,
      "outputs": []
    },
    {
      "cell_type": "code",
      "source": [
        "def get_dataset_features_2_ncp(ncp):\n",
        "  features = []\n",
        "  print('change_points')\n",
        "  for file_id in ncp:\n",
        "    for frames in ncp[file_id]:\n",
        "      span = ncp[file_id][frames]\n",
        "      if len(span) == 2:\n",
        "        time_stamp = list(frames)[0]\n",
        "        impact_scalar = 0\n",
        "        features.append(concat_window2_ncp(span,file_id,time_stamp,impact_scalar,'ncp'))\n",
        "  data = pd.concat(features)\n",
        "  data = data.reset_index(drop=True)\n",
        "  data = data.sample(frac = 1)\n",
        "  return data "
      ],
      "metadata": {
        "id": "etsXJ85JANgf"
      },
      "execution_count": 41,
      "outputs": []
    },
    {
      "cell_type": "code",
      "source": [
        "val_ncp_1 = get_dataset_features_1_ncp(val_ncp)"
      ],
      "metadata": {
        "colab": {
          "base_uri": "https://localhost:8080/"
        },
        "id": "Aykf1oZx-sHB",
        "outputId": "701a3e5a-0d2d-4949-dd2e-2e3034e88126"
      },
      "execution_count": 31,
      "outputs": [
        {
          "output_type": "stream",
          "name": "stdout",
          "text": [
            "change_points\n"
          ]
        }
      ]
    },
    {
      "cell_type": "code",
      "source": [
        "val_ncp_1 = val_ncp_1.dropna()\n",
        "val_ncp_1.to_csv('/content/drive/MyDrive/research_2023_experiments /features1_new_val_ncp.csv',index = False)"
      ],
      "metadata": {
        "id": "_5SCIhhrTKr6"
      },
      "execution_count": 35,
      "outputs": []
    },
    {
      "cell_type": "code",
      "source": [
        "val_ncp_2 = get_dataset_features_2_ncp(val_ncp)\n",
        "val_ncp_2 = val_ncp_2.dropna()\n",
        "val_ncp_2.to_csv('/content/drive/MyDrive/research_2023_experiments /features2_new_val_ncp.csv',index = False)"
      ],
      "metadata": {
        "id": "W54n91EMAM7t"
      },
      "execution_count": null,
      "outputs": []
    },
    {
      "cell_type": "code",
      "source": [
        "val_1 = pd.concat([val_ncp_1, new_val_1])\n",
        "val_1 = val_1.sample(frac = 1)\n",
        "val_1 = val_1.reset_index(drop=True)"
      ],
      "metadata": {
        "id": "saoVe_KXB60u"
      },
      "execution_count": 43,
      "outputs": []
    },
    {
      "cell_type": "code",
      "source": [
        "val_2 = pd.concat([val_ncp_2, new_val_2])\n",
        "val_2 = val_2.sample(frac = 1)\n",
        "val_2 = val_2.reset_index(drop=True)"
      ],
      "metadata": {
        "id": "Q_jtRYTsCLq6"
      },
      "execution_count": 44,
      "outputs": []
    },
    {
      "cell_type": "code",
      "source": [
        "val_1 = val_1.dropna()\n",
        "val_2 = val_2.dropna()\n",
        "val_1.to_csv('/content/drive/MyDrive/research_2023_experiments /features1_new_val.csv',index = False)\n",
        "val_2.to_csv('/content/drive/MyDrive/research_2023_experiments /features2_new_val.csv',index = False)"
      ],
      "metadata": {
        "id": "Rd570tsnCQxc"
      },
      "execution_count": 45,
      "outputs": []
    },
    {
      "cell_type": "code",
      "source": [
        "#read in saved val csv files after features 1 and 2 are put together\n",
        "import pandas as pd\n",
        "val_1 = pd.read_csv('/content/drive/MyDrive/research_2023_experiments /features1_new_val.csv')\n",
        "val_2 = pd.read_csv('/content/drive/MyDrive/research_2023_experiments /features2_new_val.csv')"
      ],
      "metadata": {
        "id": "e0ZGZVedV2Rh"
      },
      "execution_count": 116,
      "outputs": []
    },
    {
      "cell_type": "markdown",
      "source": [
        "Load in saved train features sets"
      ],
      "metadata": {
        "id": "z78gnzi6FK-L"
      }
    },
    {
      "cell_type": "code",
      "execution_count": 12,
      "metadata": {
        "id": "kgg9t1hvz3VT"
      },
      "outputs": [],
      "source": [
        "import pickle \n",
        "\n",
        "with open('/content/drive/MyDrive/research_files/change_points_train_two.pkl', 'rb') as f:\n",
        "    cp_train = pickle.load(f)\n",
        "\n",
        "with open('/content/drive/MyDrive/research_files/nonchange_points_train_two.pkl', 'rb') as f:\n",
        "    ncp_train = pickle.load(f)\n"
      ]
    },
    {
      "cell_type": "code",
      "source": [
        "#load in saved impact_scalars for train changepoints \n",
        "import pickle\n",
        "with open('/content/train.pkl', 'rb') as f:\n",
        "    train = pickle.load(f)\n"
      ],
      "metadata": {
        "id": "BjxGHyAvmNbO"
      },
      "execution_count": 34,
      "outputs": []
    },
    {
      "cell_type": "code",
      "source": [
        "import pandas as pd\n",
        "\n",
        "#given and list of three dfs concatenate the -5 and +5 dfs difference (list[0], list[2])\n",
        "def concat_window(frames, file_id,i_s,num,label):\n",
        "  time_stamp = frames[1]['time']\n",
        "  df1 = frames[0].drop(['time', 'input', 'frame'], axis=1)\n",
        "  df2 = frames[2].drop(['time', 'input', 'frame'], axis=1)\n",
        "  diff1 = df1.diff().iloc[1:]\n",
        "  diff1.columns = [str(col) + '_diff1' for col in diff1.columns]\n",
        "  diff2 = df2.diff().iloc[1:]\n",
        "  diff2.columns = [str(col) + '_diff2' for col in diff2.columns]\n",
        "  diff = pd.concat([diff1, diff2], axis=1)\n",
        "  diff['file_id'] = file_id\n",
        "  diff['time'] = time_stamp\n",
        "  diff['impact_scalar'] = i_s\n",
        "  diff['label'] = label\n",
        "  diff['impact_scalar_num'] = num\n",
        " \n",
        "  return diff\n"
      ],
      "metadata": {
        "id": "5c6gRLwt1Lm0"
      },
      "execution_count": 48,
      "outputs": []
    },
    {
      "cell_type": "code",
      "source": [
        "import numpy as np \n",
        "def concat_window2(frames, file_id,i_s,num,label):\n",
        "  time_stamp = frames[1]['time']\n",
        "  df1 = pd.DataFrame(frames[0].drop(['time', 'input', 'frame'], axis=1))\n",
        "  df2 = pd.DataFrame(frames[2].drop(['time', 'input', 'frame'], axis=1))\n",
        "  diff1 = pd.DataFrame(columns=df1.columns)\n",
        "  diff1.loc[len(diff1.index)] = [i1 * i2 for i1, i2 in zip(list(df1.iloc[0,:]), list(df1.iloc[1,:]))]\n",
        "  diff1.columns = [str(col) + '_diff1' for col in diff1.columns]\n",
        "  \n",
        "  diff2 = pd.DataFrame(columns=df2.columns)\n",
        "  diff2.loc[len(diff2)] = [i1 * i2 for i1, i2 in zip(list(df2.iloc[0,:]), list(df2.iloc[1,:]))]\n",
        "  diff2.columns = [str(col) + '_diff2' for col in diff2.columns]\n",
        "  \n",
        "  diff = pd.concat([diff1, diff2], axis=1)\n",
        "  diff['file_id'] = file_id\n",
        "  diff['time'] = time_stamp\n",
        "  diff['label'] = label\n",
        "  diff['impact_scalar'] = i_s\n",
        "  diff['impact_scalar_num'] = num\n",
        " \n",
        "  return diff"
      ],
      "metadata": {
        "id": "b8gtBl9XobU-"
      },
      "execution_count": 9,
      "outputs": []
    },
    {
      "cell_type": "code",
      "source": [
        "def get_dataset_features_1(cp,ncp,scalars):\n",
        "  features = []\n",
        "  print('change_points')\n",
        "  for file_id in cp:\n",
        "    for time_stamp in cp[file_id]:\n",
        "      impact_scalar = scalars[(file_id, time_stamp)]\n",
        "      i_s = \"\"\n",
        "      if impact_scalar > 3:\n",
        "        i_s = \"high\"\n",
        "      elif impact_scalar < 3:\n",
        "        i_s = \"low\"\n",
        "      elif impact_scalar  ==  3:\n",
        "        i_s = \"three\"\n",
        "      else:\n",
        "        i_s = \"noncp\"\n",
        "\n",
        "      features.append(concat_window(cp[file_id][time_stamp],file_id,i_s,impact_scalar,'cp'))\n",
        "\n",
        "  print('non_change_points')\n",
        "  for file_id in ncp:\n",
        "    for time_stamp in ncp[file_id]:\n",
        "      i_s = \"noncp\"\n",
        "      features.append(concat_window(ncp[file_id][time_stamp],file_id ,i_s, 0,'ncp'))\n",
        "\n",
        "  data = pd.concat(features)\n",
        "  data = data.reset_index(drop=True)\n",
        "  data = data.sample(frac = 1)\n",
        "  return data \n",
        "\n",
        "\n",
        "def get_dataset_features_2(cp,ncp,scalars):\n",
        "  features = []\n",
        "  print('change_points')\n",
        "  for file_id in cp:\n",
        "    for time_stamp in cp[file_id]:\n",
        "      impact_scalar = scalars[(file_id, time_stamp)]\n",
        "      i_s = \"\"\n",
        "      if impact_scalar > 3:\n",
        "        i_s = \"high\"\n",
        "      elif impact_scalar < 3:\n",
        "        i_s = \"low\"\n",
        "      elif impact_scalar  ==  3:\n",
        "        i_s = \"three\"\n",
        "      else:\n",
        "        i_s = \"noncp\"\n",
        "\n",
        "      features.append(concat_window2(cp[file_id][time_stamp],file_id,i_s,impact_scalar,'cp'))\n",
        "\n",
        "  print('non_change_points')\n",
        "  for file_id in ncp:\n",
        "    for time_stamp in ncp[file_id]:\n",
        "      i_s = \"noncp\"\n",
        "      features.append(concat_window2(ncp[file_id][time_stamp],file_id ,i_s,0,'ncp'))\n",
        "\n",
        "  data = pd.concat(features)\n",
        "  data = data.reset_index(drop=True)\n",
        "  data = data.sample(frac = 1)\n",
        "  return data \n",
        "\n",
        "\n"
      ],
      "metadata": {
        "id": "2wzuR_06zmKB"
      },
      "execution_count": 39,
      "outputs": []
    },
    {
      "cell_type": "code",
      "source": [
        "data_train_features_1 = get_dataset_features_1(cp_train,ncp_train,train)\n",
        "data_train_features_2 = get_dataset_features_2(cp_train,ncp_train,train)\n",
        "\n",
        "data_train_features_1.to_csv('/content/drive/MyDrive/research_2023_experiments /features1_train.csv',index=False)\n",
        "data_train_features_2.to_csv('/content/drive/MyDrive/research_2023_experiments /features2_train.csv',index=False)"
      ],
      "metadata": {
        "id": "sANIDzeN0co9"
      },
      "execution_count": null,
      "outputs": []
    },
    {
      "cell_type": "markdown",
      "source": [
        "load in already processed features (after running both val and train process can automatically load in csv's)"
      ],
      "metadata": {
        "id": "1NtVUd09Fbyj"
      }
    },
    {
      "cell_type": "code",
      "source": [
        "import pandas as pd \n",
        "#load in train features 1 and 2 (if already processed)\n",
        "data_train_1 = pd.read_csv('/content/drive/MyDrive/research_2023_experiments /features1_train.csv')\n",
        "data_train_1 = data_train_1.dropna()\n",
        "data_train_2 = pd.read_csv('/content/drive/MyDrive/research_2023_experiments /features2_train.csv')\n",
        "data_train_2 = data_train_2.dropna()"
      ],
      "metadata": {
        "id": "fLRcfTP-uJ9L"
      },
      "execution_count": 118,
      "outputs": []
    },
    {
      "cell_type": "markdown",
      "source": [
        "convert labels to numeric labels (0 for ncp and 1 for cp)"
      ],
      "metadata": {
        "id": "_tfpKEy3PUtd"
      }
    },
    {
      "cell_type": "code",
      "source": [
        "data_val_1 = val_1\n",
        "data_val_2 = val_2"
      ],
      "metadata": {
        "id": "LHOV4dLABstR"
      },
      "execution_count": 123,
      "outputs": []
    },
    {
      "cell_type": "code",
      "source": [
        "#factorize labels (binary)\n",
        "def numeric_labels_bin(df):\n",
        "  labels = pd.factorize(df['label'], sort=False)\n",
        "  df['numerical_label'] = labels[0]\n",
        "  df = df.dropna()\n",
        "  return df \n",
        "\n",
        "data_features_1 = numeric_labels_bin(data_train_1)\n",
        "data_features_2 = numeric_labels_bin(data_train_2)\n",
        "\n",
        "val_features_1 = numeric_labels_bin(data_val_1)\n",
        "val_features_2 = numeric_labels_bin(data_val_2)"
      ],
      "metadata": {
        "id": "-FLPUs6m1qTQ"
      },
      "execution_count": 124,
      "outputs": []
    },
    {
      "cell_type": "code",
      "source": [
        "#labels 0,1,2,3\n",
        "def numeric_labels_multi(df):\n",
        "  labels = pd.factorize(df['impact_scalar'], sort=False)\n",
        "  df['impact_scalar'] = labels[0]\n",
        "  df = df.dropna()\n",
        "  return df"
      ],
      "metadata": {
        "id": "oBiyZKWlHtHX"
      },
      "execution_count": 50,
      "outputs": []
    },
    {
      "cell_type": "markdown",
      "source": [
        "now run models"
      ],
      "metadata": {
        "id": "9CuxJAw3FPyj"
      }
    },
    {
      "cell_type": "code",
      "source": [
        "#this is bc pandas raises a warning when trying to set a new column on a copy of a pandas as df but\n",
        "#doesn't have any computational effect \n",
        "pd.options.mode.chained_assignment = None"
      ],
      "metadata": {
        "id": "Ppp5ga6_Wxao"
      },
      "execution_count": 7,
      "outputs": []
    },
    {
      "cell_type": "code",
      "source": [
        "import numpy as np\n",
        "from sklearn.linear_model import LogisticRegression\n",
        "from sklearn.preprocessing import StandardScaler\n",
        "from sklearn.model_selection import train_test_split\n",
        "from sklearn.metrics import f1_score, accuracy_score\n",
        "from sklearn.model_selection import cross_val_score\n",
        "from sklearn import metrics\n",
        "def log_reg_bin(df_train,df_val,name):\n",
        "\n",
        "  output = df_val[['time','file_id','impact_scalar_num']]\n",
        "  output['type'] = 'video'\n",
        "  X = df_train.drop(['label','numerical_label','file_id','time','impact_scalar','impact_scalar_num'],axis=1)\n",
        "  X_val = df_val.drop(['label','numerical_label','file_id','time','impact_scalar','impact_scalar_num'],axis=1)\n",
        "  scaler = StandardScaler()\n",
        "  X_train = scaler.fit_transform(X)\n",
        "  X_test = scaler.transform(X_val)\n",
        "\n",
        "  y_train = df_train.numerical_label\n",
        "  y_test = df_val.numerical_label\n",
        " \n",
        "\n",
        "  log_reg = LogisticRegression(solver='liblinear')\n",
        "  log_reg.fit(X_train, y_train)\n",
        "  y_pred = log_reg.predict(X_test)\n",
        "\n",
        "  print(\"f1 score \" + str(f1_score(y_test, y_pred)))\n",
        "  print(\"accuracy score \" + str(accuracy_score(y_test, y_pred)))\n",
        "\n",
        "\n",
        "  proba = log_reg.predict_proba(X_test)\n",
        "  positive_proba = proba[:, 1]\n",
        "  negative_proba = proba[:, 0] \n",
        "  output['preds'] = y_pred\n",
        "  output['true'] = y_test\n",
        "  output['llr'] = np.log(positive_proba)-np.log(negative_proba)\n",
        "  output.to_csv(name, index = False)\n",
        "  \n",
        "\n"
      ],
      "metadata": {
        "id": "m05iR5ew4J1n"
      },
      "execution_count": 18,
      "outputs": []
    },
    {
      "cell_type": "code",
      "source": [
        "log_reg_bin(data_train_1,val_features_1, '/content/drive/MyDrive/research_2023_experiments /all_features1_log_bin.csv')"
      ],
      "metadata": {
        "colab": {
          "base_uri": "https://localhost:8080/"
        },
        "id": "MQ7Hpich4g7u",
        "outputId": "2954f38f-371f-461c-cefc-379e36e6116e"
      },
      "execution_count": 125,
      "outputs": [
        {
          "output_type": "stream",
          "name": "stdout",
          "text": [
            "f1 score 0.020471740097908322\n",
            "accuracy score 0.3939977973568282\n"
          ]
        }
      ]
    },
    {
      "cell_type": "code",
      "source": [
        "log_reg_bin(data_train_2,val_features_2,'/content/drive/MyDrive/research_2023_experiments /all_features2_log_bin.csv')"
      ],
      "metadata": {
        "colab": {
          "base_uri": "https://localhost:8080/"
        },
        "id": "nt0yuu0LF1CM",
        "outputId": "85b2916d-d2be-4245-a9a8-abf96289af4f"
      },
      "execution_count": 127,
      "outputs": [
        {
          "output_type": "stream",
          "name": "stdout",
          "text": [
            "f1 score 0.011650485436893204\n",
            "accuracy score 0.43942731277533037\n"
          ]
        }
      ]
    },
    {
      "cell_type": "markdown",
      "source": [
        "multiclass impact scalar preds "
      ],
      "metadata": {
        "id": "Jy_pQrNNPRok"
      }
    },
    {
      "cell_type": "code",
      "source": [
        "def relabel(arr):\n",
        "  new_labels = []\n",
        "  for label in arr:\n",
        "    if label == 'none' or label == 'noncp':\n",
        "      new_labels.append(0)\n",
        "    else:\n",
        "      new_labels.append(1)\n",
        "  return new_labels\n",
        "\n"
      ],
      "metadata": {
        "id": "1mVncSYlXjLO"
      },
      "execution_count": 153,
      "outputs": []
    },
    {
      "cell_type": "code",
      "source": [
        "from sklearn import linear_model\n",
        "import numpy as np\n",
        "def numeric_labels_multi(df):\n",
        "  labels = {'high': '2', 'low': '1', 'three': '3', 'noncp': '0'}\n",
        "  df['numerical_label'] = df['impact_scalar'].map(labels)\n",
        "  return df \n",
        "\n",
        "  \n",
        "def log_reg_multi(df_train,df_val,name):\n",
        "  output = df_val[['time','file_id','impact_scalar_num']]\n",
        "  output['type'] = 'video'\n",
        "\n",
        "  X = df_train.drop(['label','numerical_label','file_id','time','impact_scalar','impact_scalar_num'],axis=1)\n",
        "  X_val = df_val.drop(['label','numerical_label','file_id','time','impact_scalar','impact_scalar_num'],axis=1)\n",
        "  scaler = StandardScaler()\n",
        "  X_train = scaler.fit_transform(X)\n",
        "  X_test = scaler.transform(X_val)\n",
        "\n",
        "  y_train = df_train.impact_scalar\n",
        "  y_test = df_val.impact_scalar\n",
        "  reweigted_y_test = relabel(y_test)\n",
        "  \n",
        "\n",
        "  log_reg = linear_model.LogisticRegression(multi_class='ovr', solver='liblinear')\n",
        "  log_reg.fit(X_train, y_train)\n",
        "  y_pred = log_reg.predict(X_test)\n",
        "  reweigted_y_pred = relabel(y_pred)\n",
        "\n",
        "  proba = log_reg.predict_proba(X_test)\n",
        "  print( log_reg.classes_)\n",
        "  pos = 1-proba[:, 2]\n",
        "  log_neg = np.log(proba[:, 2]) \n",
        "  output['preds'] = reweigted_y_pred\n",
        "  output['true'] = reweigted_y_test\n",
        "  output['llr'] = np.log(pos)-log_neg\n",
        "  output.to_csv(name, index = False)\n",
        "\n",
        "  print(\"f1 score \" + str(f1_score(reweigted_y_test, reweigted_y_pred)))\n",
        "  print(\"accuracy score \" + str(accuracy_score(reweigted_y_test, reweigted_y_pred)))\n"
      ],
      "metadata": {
        "id": "J9nAaZBmPTnp"
      },
      "execution_count": 154,
      "outputs": []
    },
    {
      "cell_type": "code",
      "source": [
        "log_reg_multi(data_train_1,val_features_1,'/content/drive/MyDrive/research_2023_experiments /all_features1_multi.csv')"
      ],
      "metadata": {
        "colab": {
          "base_uri": "https://localhost:8080/"
        },
        "id": "M7FFKIyozi4S",
        "outputId": "aa8701e5-6b04-4439-c69e-654b975ba447"
      },
      "execution_count": 155,
      "outputs": [
        {
          "output_type": "stream",
          "name": "stdout",
          "text": [
            "['high' 'low' 'noncp' 'three']\n",
            "f1 score 0.022944550669216062\n",
            "accuracy score 0.5779185022026432\n"
          ]
        }
      ]
    },
    {
      "cell_type": "code",
      "source": [
        "log_reg_multi(data_train_2,val_features_2,'/content/drive/MyDrive/research_2023_experiments /all_features2_multi.csv')"
      ],
      "metadata": {
        "colab": {
          "base_uri": "https://localhost:8080/"
        },
        "id": "dArdDf3gSECs",
        "outputId": "3790573d-aa35-4421-ed44-6a9a09c8334f"
      },
      "execution_count": 156,
      "outputs": [
        {
          "output_type": "stream",
          "name": "stdout",
          "text": [
            "['high' 'low' 'noncp' 'three']\n",
            "f1 score 0.023679417122040074\n",
            "accuracy score 0.7048458149779736\n"
          ]
        }
      ]
    },
    {
      "cell_type": "markdown",
      "source": [
        "PCA on train to find the top features"
      ],
      "metadata": {
        "id": "jAoSpZ7jFE6w"
      }
    },
    {
      "cell_type": "code",
      "source": [
        "from sklearn.decomposition import PCA\n",
        "def pca(all_data,n):\n",
        "# Instantiate the PCA object with n_components equal to the number of features\n",
        "  X = all_data.drop(['label','numerical_label','file_id','time','impact_scalar'],axis=1)\n",
        "  pca = PCA(n_components=len(X.columns))\n",
        "  pca.fit(X)\n",
        "  importance_scores = abs(pca.components_)\n",
        "  total_scores = importance_scores.sum(axis=0)\n",
        "  top_features_idx = total_scores.argsort()[::-1][:n]\n",
        "  top_features = X.columns[top_features_idx]\n",
        "  return top_features\n",
        "\n"
      ],
      "metadata": {
        "id": "IvjDePoz8fsl"
      },
      "execution_count": 36,
      "outputs": []
    },
    {
      "cell_type": "markdown",
      "source": [
        "use pca and other means of feature sets and test for log reg classifiers"
      ],
      "metadata": {
        "id": "WC-ytoqmTLUG"
      }
    },
    {
      "cell_type": "code",
      "source": [
        "top_50_1 = pca(data_train_1,50)\n",
        "top_50_2 = pca(data_train_2,50)\n",
        "top_100_1 = pca(data_train_1,100)\n",
        "top_100_2 = pca(data_train_2,100)\n",
        "emotions = ['anger_diff1', 'disgust_diff1', 'fear_diff1', 'happiness_diff1', 'sadness_diff1', 'surprise_diff1', 'neutral_diff1','anger_diff2', 'disgust_diff2', 'fear_diff2', 'happiness_diff2', 'sadness_diff2', 'surprise_diff2', 'neutral_diff2']"
      ],
      "metadata": {
        "id": "XcPs9OQ5EECp"
      },
      "execution_count": 37,
      "outputs": []
    },
    {
      "cell_type": "code",
      "source": [
        "top_200_1 = pca(data_train_1,200)\n",
        "top_200_2 = pca(data_train_2,200)"
      ],
      "metadata": {
        "id": "9mIw4vMmOVHN"
      },
      "execution_count": 38,
      "outputs": []
    },
    {
      "cell_type": "code",
      "source": [
        "from sklearn.linear_model import LogisticRegression\n",
        "\n",
        "def importance(df_train, df_val):\n",
        "  X = df_train.drop(['label','numerical_label','file_id','time','impact_scalar','impact_scalar_num'],axis=1)\n",
        "  X_val = df_val.drop(['label','numerical_label','file_id','time','impact_scalar','impact_scalar_num'],axis=1)\n",
        "  scaler = StandardScaler()\n",
        "  X_train = scaler.fit_transform(X)\n",
        "  X_test = scaler.transform(X_val)\n",
        "\n",
        "  y_train = df_train.numerical_label\n",
        "  y_test = df_val.numerical_label\n",
        "  model = LogisticRegression(solver='liblinear',max_iter=1000)\n",
        "\n",
        "  model.fit(X_train, y_train)\n",
        "  importances = pd.DataFrame(data={\n",
        "      'Attribute': X.columns,\n",
        "      'Importance': model.coef_[0]\n",
        "  })\n",
        "  importances = importances.sort_values(by='Importance', ascending=False)\n",
        "  return importances"
      ],
      "metadata": {
        "id": "Iw7br8WIpswn"
      },
      "execution_count": 39,
      "outputs": []
    },
    {
      "cell_type": "code",
      "source": [
        "w_features = importance(data_train_1, data_val_1)"
      ],
      "metadata": {
        "id": "IPaElvAEqNNw"
      },
      "execution_count": 40,
      "outputs": []
    },
    {
      "cell_type": "code",
      "source": [
        "imp = w_features.head(50)"
      ],
      "metadata": {
        "id": "qNWeSe2Aqvlv"
      },
      "execution_count": 41,
      "outputs": []
    },
    {
      "cell_type": "code",
      "source": [
        "import matplotlib.pyplot as plt\n",
        "plt.bar(x=imp['Attribute'], height=imp['Importance'], color='#087E8B')\n",
        "plt.title('Feature importances obtained from coefficients', size=10)\n",
        "plt.xticks(rotation='vertical')\n",
        "plt.show()"
      ],
      "metadata": {
        "colab": {
          "base_uri": "https://localhost:8080/",
          "height": 576
        },
        "id": "xYtZo_w-sHH-",
        "outputId": "0f757b77-3a4f-4bf7-b356-80dd07e3e5c5"
      },
      "execution_count": 42,
      "outputs": [
        {
          "output_type": "display_data",
          "data": {
            "text/plain": [
              "<Figure size 640x480 with 1 Axes>"
            ],
            "image/png": "[encoded data removed]"
          },
          "metadata": {}
        }
      ]
    },
    {
      "cell_type": "code",
      "source": [
        "def log_reg_bin_features(df_train,df_val,name,features):\n",
        "  output = df_val[['time','file_id','impact_scalar_num']]\n",
        "  output['type'] = 'video'\n",
        "  X = df_train[features]\n",
        "  X_val = df_val[features]\n",
        "  scaler = StandardScaler()\n",
        "  X_train = scaler.fit_transform(X)\n",
        "  X_test = scaler.transform(X_val)\n",
        "\n",
        "  y_train = df_train.numerical_label\n",
        "  y_test = df_val.numerical_label\n",
        "\n",
        "  log_reg = LogisticRegression(solver='liblinear')\n",
        "  log_reg.fit(X_train, y_train)\n",
        "  y_pred = log_reg.predict(X_test)\n",
        "\n",
        "  print(\"f1 score \" + str(f1_score(y_test, y_pred)))\n",
        "  print(\"accuracy score \" + str(accuracy_score(y_test, y_pred)))\n",
        "\n",
        "\n",
        "  proba = log_reg.predict_proba(X_test)\n",
        "  positive_proba = proba[:, 1]\n",
        "  negative_proba = proba[:, 0] \n",
        "  output['preds'] = y_pred\n",
        "  output['true'] = y_test\n",
        "  output['llr'] = np.log(positive_proba)-np.log(negative_proba)\n",
        "  output.to_csv(name, index = False)"
      ],
      "metadata": {
        "id": "87jwiRzqS4NH"
      },
      "execution_count": 43,
      "outputs": []
    },
    {
      "cell_type": "code",
      "source": [
        "log_reg_bin_features(data_train_1,data_val_1,'/content/drive/MyDrive/research_2023_experiments /all_features1_top100.csv',top_100_1)"
      ],
      "metadata": {
        "colab": {
          "base_uri": "https://localhost:8080/"
        },
        "id": "0V9tJ2JKDWzL",
        "outputId": "3ae8e732-1136-4eb0-bbb7-ce57accdc15d"
      },
      "execution_count": 44,
      "outputs": [
        {
          "output_type": "stream",
          "name": "stdout",
          "text": [
            "f1 score 0.01715854495538778\n",
            "accuracy score 0.21145374449339208\n"
          ]
        }
      ]
    },
    {
      "cell_type": "code",
      "source": [
        "log_reg_bin_features(data_train_2,data_val_2,'/content/drive/MyDrive/research_2023_experiments /all_features2_top100.csv',top_100_2)"
      ],
      "metadata": {
        "colab": {
          "base_uri": "https://localhost:8080/"
        },
        "id": "v_uoN_55OQaM",
        "outputId": "7c2d04fd-743d-4188-9584-090c5825eac0"
      },
      "execution_count": 45,
      "outputs": [
        {
          "output_type": "stream",
          "name": "stdout",
          "text": [
            "f1 score 0.011196641007697692\n",
            "accuracy score 0.6109581497797357\n"
          ]
        }
      ]
    },
    {
      "cell_type": "code",
      "source": [
        "log_reg_bin_features(data_train_1,data_val_1,'/content/drive/MyDrive/research_2023_experiments /all_features1_top200.csv',top_200_1)\n",
        "log_reg_bin_features(data_train_2,data_val_2,'/content/drive/MyDrive/research_2023_experiments /all_features2_top200.csv',top_200_2)"
      ],
      "metadata": {
        "colab": {
          "base_uri": "https://localhost:8080/"
        },
        "id": "11YIm8cDOUTu",
        "outputId": "addbb6da-6272-4639-ccbb-8c20096614b3"
      },
      "execution_count": 46,
      "outputs": [
        {
          "output_type": "stream",
          "name": "stdout",
          "text": [
            "f1 score 0.016949152542372885\n",
            "accuracy score 0.23348017621145375\n",
            "f1 score 0.010057471264367816\n",
            "accuracy score 0.6205947136563876\n"
          ]
        }
      ]
    },
    {
      "cell_type": "code",
      "source": [
        "log_reg_bin_features(data_train_1,data_val_1,'/content/drive/MyDrive/research_2023_experiments /all_features1_emotions.csv',emotions)\n",
        "log_reg_bin_features(data_train_2,data_val_2,'/content/drive/MyDrive/research_2023_experiments /all_features2_emotions.csv',emotions)"
      ],
      "metadata": {
        "id": "lat1N_qd3tQ3",
        "colab": {
          "base_uri": "https://localhost:8080/"
        },
        "outputId": "205acfc8-2f1b-46df-b774-dfa7102019bf"
      },
      "execution_count": 47,
      "outputs": [
        {
          "output_type": "stream",
          "name": "stdout",
          "text": [
            "f1 score 0.017686072218128224\n",
            "accuracy score 0.2659691629955947\n",
            "f1 score 0.011320754716981131\n",
            "accuracy score 0.5671806167400881\n"
          ]
        }
      ]
    },
    {
      "cell_type": "markdown",
      "source": [
        "train a mlp classifier "
      ],
      "metadata": {
        "id": "J6aN9rH6Pj4I"
      }
    },
    {
      "cell_type": "code",
      "source": [
        "import numpy as np\n",
        "from sklearn.neural_network import MLPClassifier\n",
        "from sklearn.preprocessing import StandardScaler\n",
        "from sklearn.model_selection import train_test_split\n",
        "from sklearn.metrics import f1_score, accuracy_score\n",
        "from sklearn.model_selection import cross_val_score\n",
        "from sklearn import metrics\n",
        "def mlp(df_train,df_val,name):\n",
        "  output = df_val[['time','file_id','impact_scalar_num']]\n",
        "  output['type'] = 'video'\n",
        "  X = df_train.drop(['label','numerical_label','file_id','time','impact_scalar','impact_scalar_num'],axis=1)\n",
        "  X_val = df_val.drop(['label','numerical_label','file_id','time','impact_scalar','impact_scalar_num'],axis=1)\n",
        "  scaler = StandardScaler()\n",
        "  X_train = scaler.fit_transform(X)\n",
        "  X_test = scaler.transform(X_val)\n",
        "\n",
        "  y_train = df_train.numerical_label\n",
        "  y_test = df_val.numerical_label\n",
        "\n",
        "  clf = MLPClassifier(random_state=1, max_iter=500).fit(X_train, y_train)\n",
        " \n",
        "  y_pred =  clf.predict(X_test)\n",
        "\n",
        "  print(\"f1 score \" + str(f1_score(y_test, y_pred)))\n",
        "  print(\"accuracy score \" + str(accuracy_score(y_test, y_pred)))\n",
        "\n",
        "  proba = clf.predict_proba(X_test)\n",
        "  positive_proba = proba[:, 1]\n",
        "  negative_proba = proba[:, 0] \n",
        "  output['preds'] = y_pred\n",
        "  output['true'] = y_test\n",
        "  output['llr'] = np.log(positive_proba)-np.log(negative_proba)\n",
        "  output.to_csv(name, index = False)\n"
      ],
      "metadata": {
        "id": "auTGhWaOPnIY"
      },
      "execution_count": 48,
      "outputs": []
    },
    {
      "cell_type": "code",
      "source": [
        "mlp(data_train_1, data_val_1,'/content/drive/MyDrive/research_2023_experiments /all_features1_mlp.csv')"
      ],
      "metadata": {
        "colab": {
          "base_uri": "https://localhost:8080/"
        },
        "id": "pk1dCT7pLtzF",
        "outputId": "a05748b2-84c9-4137-a6ef-79d5e5f15b8f"
      },
      "execution_count": 49,
      "outputs": [
        {
          "output_type": "stream",
          "name": "stdout",
          "text": [
            "f1 score 0.022645393721049924\n",
            "accuracy score 0.477147577092511\n"
          ]
        }
      ]
    },
    {
      "cell_type": "code",
      "source": [
        "mlp(data_train_2, data_val_2,'/content/drive/MyDrive/research_2023_experiments /all_features2_mlp.csv')"
      ],
      "metadata": {
        "colab": {
          "base_uri": "https://localhost:8080/"
        },
        "id": "Em89e5moL8nh",
        "outputId": "eb901ab6-52cf-409d-957a-26080a09e406"
      },
      "execution_count": 50,
      "outputs": [
        {
          "output_type": "stream",
          "name": "stdout",
          "text": [
            "f1 score 0.014367816091954025\n",
            "accuracy score 0.43337004405286345\n"
          ]
        }
      ]
    },
    {
      "cell_type": "code",
      "source": [
        "def mlp_select(df_train,df_val,features,name):\n",
        "  output = df_val[['time','file_id','impact_scalar_num']]\n",
        "  output['type'] = 'video'\n",
        "  X = df_train[features]\n",
        "  X_val = df_val[features]\n",
        "  scaler = StandardScaler()\n",
        "  X_train = scaler.fit_transform(X)\n",
        "  X_test = scaler.transform(X_val)\n",
        "\n",
        "  y_train = df_train.numerical_label\n",
        "  y_test = df_val.numerical_label\n",
        "\n",
        "  clf = MLPClassifier(random_state=1, max_iter=10000).fit(X_train, y_train)\n",
        " \n",
        "  y_pred =  clf.predict(X_test)\n",
        "\n",
        "  print(\"f1 score \" + str(f1_score(y_test, y_pred)))\n",
        "  print(\"accuracy score \" + str(accuracy_score(y_test, y_pred)))\n",
        "\n",
        "  proba = clf.predict_proba(X_test)\n",
        "  positive_proba = proba[:, 1]\n",
        "  negative_proba = proba[:, 0] \n",
        "  output['preds'] = y_pred\n",
        "  output['true'] = y_test\n",
        "  output['llr'] = np.log(positive_proba)-np.log(negative_proba)\n",
        "  output.to_csv(name, index = False)"
      ],
      "metadata": {
        "id": "IB1MUOYlQKpX"
      },
      "execution_count": 51,
      "outputs": []
    },
    {
      "cell_type": "code",
      "source": [
        "mlp_select(data_train_1,data_val_1,emotions,'/content/drive/MyDrive/research_2023_experiments /all_features1_mlp_emotions.csv')"
      ],
      "metadata": {
        "colab": {
          "base_uri": "https://localhost:8080/"
        },
        "id": "9YghAzQEQOxO",
        "outputId": "b9171b15-844d-4118-8ea4-f53386d240e6"
      },
      "execution_count": 56,
      "outputs": [
        {
          "output_type": "stream",
          "name": "stdout",
          "text": [
            "f1 score 0.020568663036902603\n",
            "accuracy score 0.5542400881057269\n"
          ]
        }
      ]
    },
    {
      "cell_type": "code",
      "source": [
        "mlp_select(data_train_2,data_val_2,emotions,'/content/drive/MyDrive/research_2023_experiments /all_features2_mlp_emotions.csv')"
      ],
      "metadata": {
        "colab": {
          "base_uri": "https://localhost:8080/"
        },
        "id": "NkQVwf_Q16GX",
        "outputId": "77b5eda1-3559-47e8-c0a1-5bd3cd3b33cd"
      },
      "execution_count": 57,
      "outputs": [
        {
          "output_type": "stream",
          "name": "stdout",
          "text": [
            "f1 score 0.014484679665738161\n",
            "accuracy score 0.5129405286343612\n"
          ]
        }
      ]
    }
  ]
}